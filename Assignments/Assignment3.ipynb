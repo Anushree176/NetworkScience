{
 "cells": [
  {
   "cell_type": "markdown",
   "id": "3c0c4b62",
   "metadata": {},
   "source": [
    "# Assignment 3\n",
    "---\n",
    "#### Spring '24 - Anushree Kolhe"
   ]
  },
  {
   "cell_type": "code",
   "execution_count": 1,
   "id": "2ad636ee",
   "metadata": {},
   "outputs": [],
   "source": [
    "import networkx as nx"
   ]
  },
  {
   "cell_type": "markdown",
   "id": "63292f51",
   "metadata": {},
   "source": [
    "## Section 1: Friendships Network"
   ]
  },
  {
   "cell_type": "code",
   "execution_count": 2,
   "id": "3e4606d6",
   "metadata": {},
   "outputs": [
    {
     "name": "stdout",
     "output_type": "stream",
     "text": [
      "Graph with 180 nodes and 2220 edges\n"
     ]
    },
    {
     "name": "stderr",
     "output_type": "stream",
     "text": [
      "/var/folders/_3/98b473cn1k993m8ln5gwyv6h0000gn/T/ipykernel_62292/2221535143.py:2: DeprecationWarning: info is deprecated and will be removed in version 3.0.\n",
      "\n",
      "  print(nx.info(G))\n"
     ]
    }
   ],
   "source": [
    "G = nx.read_graphml('Data/highschool_2012.graphml')\n",
    "print(nx.info(G))\n",
    "\n",
    "total_nodes = nx.number_of_nodes(G)\n",
    "total_edges = nx.number_of_edges(G)"
   ]
  },
  {
   "cell_type": "code",
   "execution_count": 3,
   "id": "b93be756",
   "metadata": {},
   "outputs": [
    {
     "name": "stdout",
     "output_type": "stream",
     "text": [
      "Node with highest degree: 826\n",
      "Highest degree: 56\n",
      "\n"
     ]
    }
   ],
   "source": [
    "highest_degree = max(G.degree(), key=lambda x: x[1])\n",
    "print(f'Node with highest degree: {highest_degree[0]}')\n",
    "print(f'Highest degree: {highest_degree[1]}\\n')"
   ]
  },
  {
   "cell_type": "code",
   "execution_count": 4,
   "id": "e0e3d538",
   "metadata": {},
   "outputs": [
    {
     "name": "stdout",
     "output_type": "stream",
     "text": [
      "Node with largest clustering coefficient: 647\n",
      "Largest clustering coefficient: 1.0\n",
      "\n"
     ]
    }
   ],
   "source": [
    "largest_cl_coeff = max(nx.clustering(G).items(), key=lambda x: x[1])\n",
    "print(f'Node with largest clustering coefficient: {largest_cl_coeff[0]}')\n",
    "print(f'Largest clustering coefficient: {largest_cl_coeff[1]}\\n')"
   ]
  },
  {
   "cell_type": "code",
   "execution_count": 5,
   "id": "37dd753b",
   "metadata": {},
   "outputs": [
    {
     "name": "stdout",
     "output_type": "stream",
     "text": [
      "Average clustering coefficient of the n/w: 0.4752\n",
      "\n"
     ]
    }
   ],
   "source": [
    "average_cl_coeff = round(nx.average_clustering(G), 4)\n",
    "print(f'Average clustering coefficient of the n/w: {average_cl_coeff}\\n')"
   ]
  },
  {
   "cell_type": "code",
   "execution_count": 6,
   "id": "7c14a22e",
   "metadata": {},
   "outputs": [],
   "source": [
    "total_Mnodes = 0\n",
    "total_Fnodes = 0\n",
    "\n",
    "for node, attributes in G.nodes(data=True):\n",
    "    if attributes['gender'] == 'M' :\n",
    "        total_Mnodes += 1\n",
    "    else :\n",
    "        total_Fnodes += 1\n",
    "        \n",
    "proportion_male = round(total_Mnodes/total_nodes, 4)\n",
    "proportion_female = round(total_Fnodes/total_nodes, 4)"
   ]
  },
  {
   "cell_type": "code",
   "execution_count": 7,
   "id": "b02fac3e",
   "metadata": {},
   "outputs": [
    {
     "name": "stdout",
     "output_type": "stream",
     "text": [
      "Proportion of the nodes in the graph are male: 0.7333\n",
      "Proportion of the nodes in the graph are female: 0.2667\n",
      "\n"
     ]
    }
   ],
   "source": [
    "print(f'Proportion of the nodes in the graph are male: {proportion_male}')\n",
    "print(f'Proportion of the nodes in the graph are female: {proportion_female}\\n')"
   ]
  },
  {
   "cell_type": "code",
   "execution_count": 8,
   "id": "861a5dad",
   "metadata": {},
   "outputs": [],
   "source": [
    "# Expected / Calculated values\n",
    "expected_edges_ = {'M-M': 0, 'F-F': 0, 'M-F': 0}\n",
    "\n",
    "expected_edges_['M-M'] = round(proportion_male*proportion_male*total_edges) #m^2\n",
    "expected_edges_['F-F'] = round(proportion_female*proportion_female*total_edges) #f^2\n",
    "expected_edges_['M-F'] = round(2*proportion_male*proportion_female*total_edges) #2mf\n",
    "\n",
    "\n",
    "# Actual values\n",
    "edges_ = {'M-M': 0, 'F-F': 0, 'M-F': 0}\n",
    "\n",
    "for node1, node2, attr in G.edges(data=True):\n",
    "    if G.nodes[node1]['gender'] != G.nodes[node2]['gender']:\n",
    "        edges_['M-F'] += 1\n",
    "    elif G.nodes[node1]['gender'] == 'M':\n",
    "        edges_['M-M'] += 1\n",
    "    else:\n",
    "        edges_['F-F'] += 1"
   ]
  },
  {
   "cell_type": "code",
   "execution_count": 9,
   "id": "7af3ea0c",
   "metadata": {},
   "outputs": [
    {
     "name": "stdout",
     "output_type": "stream",
     "text": [
      "Expected edge values:\n",
      "{'M-M': 1194, 'F-F': 158, 'M-F': 868}\n",
      "\n",
      "Actual edge values:\n",
      "{'M-M': 1276, 'F-F': 182, 'M-F': 762}\n",
      "\n",
      "Expected sum: 2220\n",
      "Actual sum: 2220\n",
      "\n",
      "Expected edges M-F: 868\n",
      "Actual edges M-F: 762\n",
      "\n"
     ]
    }
   ],
   "source": [
    "print(f'Expected edge values:\\n{expected_edges_}\\n')\n",
    "print(f'Actual edge values:\\n{edges_}\\n')\n",
    "print(f'Expected sum: {sum(expected_edges_.values())}')\n",
    "print(f'Actual sum: {sum(edges_.values())}')\n",
    "\n",
    "print(f'\\nExpected edges M-F: {expected_edges_[\"M-F\"]}')\n",
    "print(f'Actual edges M-F: {edges_[\"M-F\"]}\\n')"
   ]
  },
  {
   "cell_type": "markdown",
   "id": "e473a4de",
   "metadata": {},
   "source": [
    "We can see that the expected values of number of edges between males and females ('M-F') are lower than the actual values. This could suggest evidence supporting a homophily. There could be a bias in friendships among these high schoolers. Therefore, the evidence leans towards \"For\" homophily bias."
   ]
  },
  {
   "cell_type": "markdown",
   "id": "a7c2b815",
   "metadata": {},
   "source": [
    "<br><br>\n",
    "## Section 2: Club Membership Network"
   ]
  },
  {
   "cell_type": "code",
   "execution_count": 10,
   "id": "790c6dfd",
   "metadata": {},
   "outputs": [
    {
     "name": "stderr",
     "output_type": "stream",
     "text": [
      "/var/folders/_3/98b473cn1k993m8ln5gwyv6h0000gn/T/ipykernel_62292/3996694401.py:2: DeprecationWarning: info is deprecated and will be removed in version 3.0.\n",
      "\n",
      "  nx.info(G)\n"
     ]
    },
    {
     "data": {
      "text/plain": [
       "'Graph with 40 nodes and 95 edges'"
      ]
     },
     "execution_count": 10,
     "metadata": {},
     "output_type": "execute_result"
    }
   ],
   "source": [
    "G = nx.read_edgelist('Data/club_membership.edgelist', create_using=nx.Graph())\n",
    "nx.info(G)"
   ]
  },
  {
   "cell_type": "code",
   "execution_count": 11,
   "id": "5586f026",
   "metadata": {},
   "outputs": [],
   "source": [
    "total_nodes = nx.number_of_nodes(G)\n",
    "total_edges = nx.number_of_edges(G)"
   ]
  },
  {
   "cell_type": "markdown",
   "id": "a2f1f8be",
   "metadata": {},
   "source": [
    "#### What is the mean number of organizational affiliations per person in the data set? <br>What is the mean number of members per organization?"
   ]
  },
  {
   "cell_type": "code",
   "execution_count": 12,
   "id": "8980c513",
   "metadata": {},
   "outputs": [],
   "source": [
    "people = []\n",
    "organizations = []\n",
    "\n",
    "for node in G.nodes():\n",
    "    if node[0] == 'o':\n",
    "        organizations.append(node)\n",
    "    else:\n",
    "        people.append(node)\n",
    "        \n",
    "        \n",
    "sum_people = 0\n",
    "for person in people :\n",
    "    sum_people += len(set(G.neighbors(person)))\n",
    "mean_people = sum_people/len(people)\n",
    "\n",
    "sum_org = 0\n",
    "for org in organizations :\n",
    "    sum_org += len(set(G.neighbors(org)))    \n",
    "mean_org = sum_org/len(organizations)"
   ]
  },
  {
   "cell_type": "code",
   "execution_count": 13,
   "id": "a16383e7",
   "metadata": {},
   "outputs": [
    {
     "name": "stdout",
     "output_type": "stream",
     "text": [
      "No. of people:  25\n",
      "No. of organizations:  15\n",
      "\n",
      "Mean number of organizational affiliations per person :  3.8\n",
      "Mean number of members per organizations:  6.333333333333333\n"
     ]
    }
   ],
   "source": [
    "print('No. of people: ',len(people))\n",
    "print('No. of organizations: ',len(organizations))\n",
    "print('\\nMean number of organizational affiliations per person : ',mean_people)\n",
    "print('Mean number of members per organizations: ',mean_org)"
   ]
  },
  {
   "cell_type": "markdown",
   "id": "cc8b4454",
   "metadata": {},
   "source": [
    "#### Function to measure similarity"
   ]
  },
  {
   "cell_type": "code",
   "execution_count": 14,
   "id": "375a2eb3",
   "metadata": {},
   "outputs": [],
   "source": [
    "def similarity_measure(G, node_1, node_2):\n",
    "    \n",
    "    if (node_1 in people and node_2 in people) or (node_1 in organizations and node_2 in organizations):\n",
    "        neighbors_n1 = set(G.neighbors(node_1))\n",
    "        neighbors_n2 = set(G.neighbors(node_2))\n",
    "        sim = len(neighbors_n1.intersection(neighbors_n2))/len(neighbors_n1.union(neighbors_n2))\n",
    "        return sim\n",
    "    \n",
    "    else:\n",
    "        raise ValueError(\"Bipartite Graph!\\n\\tThe nodes need to be from the same group.\")"
   ]
  },
  {
   "cell_type": "code",
   "execution_count": 15,
   "id": "57e135b5",
   "metadata": {},
   "outputs": [
    {
     "ename": "ValueError",
     "evalue": "Bipartite Graph!\n\tThe nodes need to be from the same group.",
     "output_type": "error",
     "traceback": [
      "\u001b[0;31m---------------------------------------------------------------------------\u001b[0m",
      "\u001b[0;31mValueError\u001b[0m                                Traceback (most recent call last)",
      "Input \u001b[0;32mIn [15]\u001b[0m, in \u001b[0;36m<cell line: 2>\u001b[0;34m()\u001b[0m\n\u001b[1;32m      1\u001b[0m \u001b[38;5;66;03m# Will throw an error as the groups are different. \u001b[39;00m\n\u001b[0;32m----> 2\u001b[0m \u001b[43msimilarity_measure\u001b[49m\u001b[43m(\u001b[49m\u001b[43mG\u001b[49m\u001b[43m,\u001b[49m\u001b[43m \u001b[49m\u001b[38;5;124;43m'\u001b[39;49m\u001b[38;5;124;43mo11\u001b[39;49m\u001b[38;5;124;43m'\u001b[39;49m\u001b[43m,\u001b[49m\u001b[43m \u001b[49m\u001b[38;5;124;43m'\u001b[39;49m\u001b[38;5;124;43mp13\u001b[39;49m\u001b[38;5;124;43m'\u001b[39;49m\u001b[43m)\u001b[49m\n",
      "Input \u001b[0;32mIn [14]\u001b[0m, in \u001b[0;36msimilarity_measure\u001b[0;34m(G, node_1, node_2)\u001b[0m\n\u001b[1;32m      7\u001b[0m     \u001b[38;5;28;01mreturn\u001b[39;00m sim\n\u001b[1;32m      9\u001b[0m \u001b[38;5;28;01melse\u001b[39;00m:\n\u001b[0;32m---> 10\u001b[0m     \u001b[38;5;28;01mraise\u001b[39;00m \u001b[38;5;167;01mValueError\u001b[39;00m(\u001b[38;5;124m\"\u001b[39m\u001b[38;5;124mBipartite Graph!\u001b[39m\u001b[38;5;130;01m\\n\u001b[39;00m\u001b[38;5;130;01m\\t\u001b[39;00m\u001b[38;5;124mThe nodes need to be from the same group.\u001b[39m\u001b[38;5;124m\"\u001b[39m)\n",
      "\u001b[0;31mValueError\u001b[0m: Bipartite Graph!\n\tThe nodes need to be from the same group."
     ]
    }
   ],
   "source": [
    "# Will throw an error as the groups are different. \n",
    "similarity_measure(G, 'o11', 'p13')"
   ]
  },
  {
   "cell_type": "code",
   "execution_count": 16,
   "id": "5cfb5af4",
   "metadata": {},
   "outputs": [
    {
     "data": {
      "text/plain": [
       "0.3"
      ]
     },
     "execution_count": 16,
     "metadata": {},
     "output_type": "execute_result"
    }
   ],
   "source": [
    "similarity_measure(G, 'o11', 'o6')"
   ]
  },
  {
   "cell_type": "markdown",
   "id": "a35c91e9",
   "metadata": {},
   "source": [
    "#### Function to get find the pair of nodes with highest similarity value"
   ]
  },
  {
   "cell_type": "code",
   "execution_count": 17,
   "id": "ba0fb3c9",
   "metadata": {},
   "outputs": [],
   "source": [
    "def get_highest_similarity(G, grouptype):\n",
    "    \n",
    "    group = organizations if grouptype == 'o' else people\n",
    "    \n",
    "    max_sim = 0\n",
    "    pairs = []\n",
    "    for e1, e2 in zip(group, group[1:]):\n",
    "        sim = similarity_measure(G, e1, e2)\n",
    "        if sim > max_sim :\n",
    "            max_sim = sim\n",
    "            pairs = [e1, e2]\n",
    "            \n",
    "    return(pairs, max_sim)"
   ]
  },
  {
   "cell_type": "code",
   "execution_count": 18,
   "id": "17bbf4a7",
   "metadata": {},
   "outputs": [
    {
     "data": {
      "text/plain": [
       "(['o6', 'o15'], 0.3)"
      ]
     },
     "execution_count": 18,
     "metadata": {},
     "output_type": "execute_result"
    }
   ],
   "source": [
    "get_highest_similarity(G, 'o')"
   ]
  },
  {
   "cell_type": "code",
   "execution_count": 19,
   "id": "588ff214",
   "metadata": {},
   "outputs": [
    {
     "data": {
      "text/plain": [
       "(['p22', 'p3'], 0.75)"
      ]
     },
     "execution_count": 19,
     "metadata": {},
     "output_type": "execute_result"
    }
   ],
   "source": [
    "get_highest_similarity(G, 'p')"
   ]
  }
 ],
 "metadata": {
  "kernelspec": {
   "display_name": "Python 3 (ipykernel)",
   "language": "python",
   "name": "python3"
  },
  "language_info": {
   "codemirror_mode": {
    "name": "ipython",
    "version": 3
   },
   "file_extension": ".py",
   "mimetype": "text/x-python",
   "name": "python",
   "nbconvert_exporter": "python",
   "pygments_lexer": "ipython3",
   "version": "3.9.12"
  }
 },
 "nbformat": 4,
 "nbformat_minor": 5
}
