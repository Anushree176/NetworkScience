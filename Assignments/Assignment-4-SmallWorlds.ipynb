{
 "cells": [
  {
   "cell_type": "markdown",
   "id": "68707b42",
   "metadata": {},
   "source": [
    "# Assignment 4 — Small Worlds\n",
    "\n",
    "Please complete the exercises listed below and submit your notebook as an `.ipynb` or `PDF` file."
   ]
  },
  {
   "cell_type": "markdown",
   "id": "7fd88b0f",
   "metadata": {},
   "source": [
    "## Name: `Anushree Kolhe`"
   ]
  },
  {
   "cell_type": "markdown",
   "id": "7d3df1a5",
   "metadata": {},
   "source": [
    "The [`socfb-Northwestern25`](https://github.com/CambridgeUniversityPress/FirstCourseNetworkScience/blob/master/datasets/socfb-Northwestern25/socfb-Northwestern25.edges.gz) network in the book’s Github repository is a snapshot of Northwestern University’s Facebook network. The nodes are anonymous users and the links are friend relationships. Load this network into a NetworkX graph in order to answer the following questions. Be sure to use the proper graph class for an undirected, unweighted network."
   ]
  },
  {
   "cell_type": "code",
   "execution_count": 1,
   "id": "dd9bb820",
   "metadata": {},
   "outputs": [],
   "source": [
    "import pandas as pd \n",
    "import os\n",
    "import networkx as nx"
   ]
  },
  {
   "cell_type": "markdown",
   "id": "4089a0fe",
   "metadata": {},
   "source": [
    "### Load the [network](https://github.com/CambridgeUniversityPress/FirstCourseNetworkScience/blob/master/datasets/socfb-Northwestern25/socfb-Northwestern25.edges.gz) using the `networkx.read_edgelist()` function."
   ]
  },
  {
   "cell_type": "code",
   "execution_count": 2,
   "id": "dc40e0bc",
   "metadata": {},
   "outputs": [],
   "source": [
    "current_directory = os.getcwd()\n",
    "# move back a directory\n",
    "parent_dir = os.path.dirname(current_directory)\n",
    "G = nx.read_edgelist(parent_dir + '/datasets/socfb-Northwestern25/socfb-Northwestern25.edges.gz')"
   ]
  },
  {
   "cell_type": "code",
   "execution_count": 3,
   "id": "a52c6f86",
   "metadata": {},
   "outputs": [
    {
     "name": "stderr",
     "output_type": "stream",
     "text": [
      "/var/folders/_3/98b473cn1k993m8ln5gwyv6h0000gn/T/ipykernel_70649/1064119803.py:1: DeprecationWarning: info is deprecated and will be removed in version 3.0.\n",
      "\n",
      "  nx.info(G)\n"
     ]
    },
    {
     "data": {
      "text/plain": [
       "'Graph with 10567 nodes and 488337 edges'"
      ]
     },
     "execution_count": 3,
     "metadata": {},
     "output_type": "execute_result"
    }
   ],
   "source": [
    "nx.info(G)"
   ]
  },
  {
   "cell_type": "markdown",
   "id": "940b09b5",
   "metadata": {},
   "source": [
    "### Q1. How many nodes and links are in this network?"
   ]
  },
  {
   "cell_type": "code",
   "execution_count": 4,
   "id": "4a633ff7",
   "metadata": {},
   "outputs": [
    {
     "data": {
      "text/plain": [
       "10567"
      ]
     },
     "execution_count": 4,
     "metadata": {},
     "output_type": "execute_result"
    }
   ],
   "source": [
    "total_nodes = G.number_of_nodes()\n",
    "total_nodes"
   ]
  },
  {
   "cell_type": "code",
   "execution_count": 5,
   "id": "41795a39",
   "metadata": {},
   "outputs": [
    {
     "data": {
      "text/plain": [
       "488337"
      ]
     },
     "execution_count": 5,
     "metadata": {},
     "output_type": "execute_result"
    }
   ],
   "source": [
    "total_edges = G.number_of_edges()\n",
    "total_edges"
   ]
  },
  {
   "cell_type": "markdown",
   "id": "61e9c515",
   "metadata": {},
   "source": [
    "### Q2. Which of the following best describes the connectedness of this network?\n",
    "1. Strongly connected\n",
    "2. Weakly connected\n",
    "3. Connected\n",
    "4. Disconnected"
   ]
  },
  {
   "cell_type": "code",
   "execution_count": 6,
   "id": "e9808f51",
   "metadata": {},
   "outputs": [
    {
     "ename": "NetworkXNotImplemented",
     "evalue": "not implemented for undirected type",
     "output_type": "error",
     "traceback": [
      "\u001b[0;31m---------------------------------------------------------------------------\u001b[0m",
      "\u001b[0;31mNetworkXNotImplemented\u001b[0m                    Traceback (most recent call last)",
      "Input \u001b[0;32mIn [6]\u001b[0m, in \u001b[0;36m<cell line: 1>\u001b[0;34m()\u001b[0m\n\u001b[0;32m----> 1\u001b[0m \u001b[43mnx\u001b[49m\u001b[38;5;241;43m.\u001b[39;49m\u001b[43mis_strongly_connected\u001b[49m\u001b[43m(\u001b[49m\u001b[43mG\u001b[49m\u001b[43m)\u001b[49m\n",
      "File \u001b[0;32m~/opt/anaconda3/lib/python3.9/site-packages/networkx/utils/decorators.py:816\u001b[0m, in \u001b[0;36margmap.__call__.<locals>.func\u001b[0;34m(_argmap__wrapper, *args, **kwargs)\u001b[0m\n\u001b[1;32m    815\u001b[0m \u001b[38;5;28;01mdef\u001b[39;00m \u001b[38;5;21mfunc\u001b[39m(\u001b[38;5;241m*\u001b[39margs, __wrapper\u001b[38;5;241m=\u001b[39m\u001b[38;5;28;01mNone\u001b[39;00m, \u001b[38;5;241m*\u001b[39m\u001b[38;5;241m*\u001b[39mkwargs):\n\u001b[0;32m--> 816\u001b[0m     \u001b[38;5;28;01mreturn\u001b[39;00m \u001b[43margmap\u001b[49m\u001b[38;5;241;43m.\u001b[39;49m\u001b[43m_lazy_compile\u001b[49m\u001b[43m(\u001b[49m\u001b[43m__wrapper\u001b[49m\u001b[43m)\u001b[49m\u001b[43m(\u001b[49m\u001b[38;5;241;43m*\u001b[39;49m\u001b[43margs\u001b[49m\u001b[43m,\u001b[49m\u001b[43m \u001b[49m\u001b[38;5;241;43m*\u001b[39;49m\u001b[38;5;241;43m*\u001b[39;49m\u001b[43mkwargs\u001b[49m\u001b[43m)\u001b[49m\n",
      "File \u001b[0;32m<class 'networkx.utils.decorators.argmap'> compilation 13:3\u001b[0m, in \u001b[0;36margmap_is_strongly_connected_10\u001b[0;34m(G)\u001b[0m\n\u001b[1;32m      1\u001b[0m \u001b[38;5;28;01mfrom\u001b[39;00m \u001b[38;5;21;01mcollections\u001b[39;00m \u001b[38;5;28;01mimport\u001b[39;00m defaultdict\n\u001b[1;32m      2\u001b[0m \u001b[38;5;28;01mfrom\u001b[39;00m \u001b[38;5;21;01mos\u001b[39;00m\u001b[38;5;21;01m.\u001b[39;00m\u001b[38;5;21;01mpath\u001b[39;00m \u001b[38;5;28;01mimport\u001b[39;00m splitext\n\u001b[0;32m----> 3\u001b[0m \u001b[38;5;28;01mfrom\u001b[39;00m \u001b[38;5;21;01mcontextlib\u001b[39;00m \u001b[38;5;28;01mimport\u001b[39;00m contextmanager\n\u001b[1;32m      4\u001b[0m \u001b[38;5;28;01mfrom\u001b[39;00m \u001b[38;5;21;01mpathlib\u001b[39;00m \u001b[38;5;28;01mimport\u001b[39;00m Path\n\u001b[1;32m      6\u001b[0m \u001b[38;5;28;01mimport\u001b[39;00m \u001b[38;5;21;01mnetworkx\u001b[39;00m \u001b[38;5;28;01mas\u001b[39;00m \u001b[38;5;21;01mnx\u001b[39;00m\n",
      "File \u001b[0;32m~/opt/anaconda3/lib/python3.9/site-packages/networkx/utils/decorators.py:86\u001b[0m, in \u001b[0;36mnot_implemented_for.<locals>._not_implemented_for\u001b[0;34m(g)\u001b[0m\n\u001b[1;32m     82\u001b[0m \u001b[38;5;28;01mdef\u001b[39;00m \u001b[38;5;21m_not_implemented_for\u001b[39m(g):\n\u001b[1;32m     83\u001b[0m     \u001b[38;5;28;01mif\u001b[39;00m (mval \u001b[38;5;129;01mis\u001b[39;00m \u001b[38;5;28;01mNone\u001b[39;00m \u001b[38;5;129;01mor\u001b[39;00m mval \u001b[38;5;241m==\u001b[39m g\u001b[38;5;241m.\u001b[39mis_multigraph()) \u001b[38;5;129;01mand\u001b[39;00m (\n\u001b[1;32m     84\u001b[0m         dval \u001b[38;5;129;01mis\u001b[39;00m \u001b[38;5;28;01mNone\u001b[39;00m \u001b[38;5;129;01mor\u001b[39;00m dval \u001b[38;5;241m==\u001b[39m g\u001b[38;5;241m.\u001b[39mis_directed()\n\u001b[1;32m     85\u001b[0m     ):\n\u001b[0;32m---> 86\u001b[0m         \u001b[38;5;28;01mraise\u001b[39;00m nx\u001b[38;5;241m.\u001b[39mNetworkXNotImplemented(errmsg)\n\u001b[1;32m     88\u001b[0m     \u001b[38;5;28;01mreturn\u001b[39;00m g\n",
      "\u001b[0;31mNetworkXNotImplemented\u001b[0m: not implemented for undirected type"
     ]
    }
   ],
   "source": [
    "nx.is_strongly_connected(G)"
   ]
  },
  {
   "cell_type": "code",
   "execution_count": 7,
   "id": "a839cba5",
   "metadata": {},
   "outputs": [
    {
     "ename": "NetworkXNotImplemented",
     "evalue": "not implemented for undirected type",
     "output_type": "error",
     "traceback": [
      "\u001b[0;31m---------------------------------------------------------------------------\u001b[0m",
      "\u001b[0;31mNetworkXNotImplemented\u001b[0m                    Traceback (most recent call last)",
      "Input \u001b[0;32mIn [7]\u001b[0m, in \u001b[0;36m<cell line: 1>\u001b[0;34m()\u001b[0m\n\u001b[0;32m----> 1\u001b[0m \u001b[43mnx\u001b[49m\u001b[38;5;241;43m.\u001b[39;49m\u001b[43mis_weakly_connected\u001b[49m\u001b[43m(\u001b[49m\u001b[43mG\u001b[49m\u001b[43m)\u001b[49m\n",
      "File \u001b[0;32m~/opt/anaconda3/lib/python3.9/site-packages/networkx/utils/decorators.py:816\u001b[0m, in \u001b[0;36margmap.__call__.<locals>.func\u001b[0;34m(_argmap__wrapper, *args, **kwargs)\u001b[0m\n\u001b[1;32m    815\u001b[0m \u001b[38;5;28;01mdef\u001b[39;00m \u001b[38;5;21mfunc\u001b[39m(\u001b[38;5;241m*\u001b[39margs, __wrapper\u001b[38;5;241m=\u001b[39m\u001b[38;5;28;01mNone\u001b[39;00m, \u001b[38;5;241m*\u001b[39m\u001b[38;5;241m*\u001b[39mkwargs):\n\u001b[0;32m--> 816\u001b[0m     \u001b[38;5;28;01mreturn\u001b[39;00m \u001b[43margmap\u001b[49m\u001b[38;5;241;43m.\u001b[39;49m\u001b[43m_lazy_compile\u001b[49m\u001b[43m(\u001b[49m\u001b[43m__wrapper\u001b[49m\u001b[43m)\u001b[49m\u001b[43m(\u001b[49m\u001b[38;5;241;43m*\u001b[39;49m\u001b[43margs\u001b[49m\u001b[43m,\u001b[49m\u001b[43m \u001b[49m\u001b[38;5;241;43m*\u001b[39;49m\u001b[38;5;241;43m*\u001b[39;49m\u001b[43mkwargs\u001b[49m\u001b[43m)\u001b[49m\n",
      "File \u001b[0;32m<class 'networkx.utils.decorators.argmap'> compilation 17:3\u001b[0m, in \u001b[0;36margmap_is_weakly_connected_14\u001b[0;34m(G)\u001b[0m\n\u001b[1;32m      1\u001b[0m \u001b[38;5;28;01mfrom\u001b[39;00m \u001b[38;5;21;01mcollections\u001b[39;00m \u001b[38;5;28;01mimport\u001b[39;00m defaultdict\n\u001b[1;32m      2\u001b[0m \u001b[38;5;28;01mfrom\u001b[39;00m \u001b[38;5;21;01mos\u001b[39;00m\u001b[38;5;21;01m.\u001b[39;00m\u001b[38;5;21;01mpath\u001b[39;00m \u001b[38;5;28;01mimport\u001b[39;00m splitext\n\u001b[0;32m----> 3\u001b[0m \u001b[38;5;28;01mfrom\u001b[39;00m \u001b[38;5;21;01mcontextlib\u001b[39;00m \u001b[38;5;28;01mimport\u001b[39;00m contextmanager\n\u001b[1;32m      4\u001b[0m \u001b[38;5;28;01mfrom\u001b[39;00m \u001b[38;5;21;01mpathlib\u001b[39;00m \u001b[38;5;28;01mimport\u001b[39;00m Path\n\u001b[1;32m      6\u001b[0m \u001b[38;5;28;01mimport\u001b[39;00m \u001b[38;5;21;01mnetworkx\u001b[39;00m \u001b[38;5;28;01mas\u001b[39;00m \u001b[38;5;21;01mnx\u001b[39;00m\n",
      "File \u001b[0;32m~/opt/anaconda3/lib/python3.9/site-packages/networkx/utils/decorators.py:86\u001b[0m, in \u001b[0;36mnot_implemented_for.<locals>._not_implemented_for\u001b[0;34m(g)\u001b[0m\n\u001b[1;32m     82\u001b[0m \u001b[38;5;28;01mdef\u001b[39;00m \u001b[38;5;21m_not_implemented_for\u001b[39m(g):\n\u001b[1;32m     83\u001b[0m     \u001b[38;5;28;01mif\u001b[39;00m (mval \u001b[38;5;129;01mis\u001b[39;00m \u001b[38;5;28;01mNone\u001b[39;00m \u001b[38;5;129;01mor\u001b[39;00m mval \u001b[38;5;241m==\u001b[39m g\u001b[38;5;241m.\u001b[39mis_multigraph()) \u001b[38;5;129;01mand\u001b[39;00m (\n\u001b[1;32m     84\u001b[0m         dval \u001b[38;5;129;01mis\u001b[39;00m \u001b[38;5;28;01mNone\u001b[39;00m \u001b[38;5;129;01mor\u001b[39;00m dval \u001b[38;5;241m==\u001b[39m g\u001b[38;5;241m.\u001b[39mis_directed()\n\u001b[1;32m     85\u001b[0m     ):\n\u001b[0;32m---> 86\u001b[0m         \u001b[38;5;28;01mraise\u001b[39;00m nx\u001b[38;5;241m.\u001b[39mNetworkXNotImplemented(errmsg)\n\u001b[1;32m     88\u001b[0m     \u001b[38;5;28;01mreturn\u001b[39;00m g\n",
      "\u001b[0;31mNetworkXNotImplemented\u001b[0m: not implemented for undirected type"
     ]
    }
   ],
   "source": [
    "nx.is_weakly_connected(G)"
   ]
  },
  {
   "cell_type": "code",
   "execution_count": 8,
   "id": "7d6832e0",
   "metadata": {},
   "outputs": [
    {
     "data": {
      "text/plain": [
       "False"
      ]
     },
     "execution_count": 8,
     "metadata": {},
     "output_type": "execute_result"
    }
   ],
   "source": [
    "nx.is_connected(G)"
   ]
  },
  {
   "cell_type": "markdown",
   "id": "52a1bc35",
   "metadata": {},
   "source": [
    "The given network is best described as a Disconnected network."
   ]
  },
  {
   "cell_type": "markdown",
   "id": "b1eb2a29",
   "metadata": {},
   "source": [
    "### Q3. Average path lengths.\n",
    "\n",
    "We want to obtain some idea about the average length of paths in this network, but with large networks like this it is often too computationally expensive to calculate the shortest path between every pair of nodes. If\n",
    "we wanted to compute the shortest path between every pair of nodes in this network, how many shortest-path calculations would be required? In other words, how many pairs of nodes are there in this network? (Hint: Remember this network is undirected and we usually ignore self loops, especially when computing paths.)"
   ]
  },
  {
   "cell_type": "code",
   "execution_count": 9,
   "id": "54d6b76d",
   "metadata": {},
   "outputs": [],
   "source": [
    "num_pairs = total_nodes * (total_nodes - 1) // 2"
   ]
  },
  {
   "cell_type": "code",
   "execution_count": 10,
   "id": "4e14652b",
   "metadata": {},
   "outputs": [
    {
     "data": {
      "text/plain": [
       "55825461"
      ]
     },
     "execution_count": 10,
     "metadata": {},
     "output_type": "execute_result"
    }
   ],
   "source": [
    "num_pairs"
   ]
  },
  {
   "cell_type": "markdown",
   "id": "68a8c9e6",
   "metadata": {},
   "source": [
    "### Q4. Sampling for efficiency.\n",
    "\n",
    "To save time, let’s try a sampling approach. You can obtain a random pair of nodes with\n",
    "\n",
    "```python\n",
    "random.sample(G.nodes, 2)\n",
    "```\n",
    "\n",
    "Since this sampling is done without replacement, it prevents you from picking the same node twice. Do this 1000 times and for each such pair of nodes, record the length of the shortest path between them. Take the mean of this sample to obtain an estimate for the average path length in this network. Report your estimate to one decimal place."
   ]
  },
  {
   "cell_type": "code",
   "execution_count": 11,
   "id": "2b27afbc",
   "metadata": {},
   "outputs": [],
   "source": [
    "import random"
   ]
  },
  {
   "cell_type": "code",
   "execution_count": 12,
   "id": "4e11fa7d",
   "metadata": {},
   "outputs": [
    {
     "name": "stderr",
     "output_type": "stream",
     "text": [
      "/var/folders/_3/98b473cn1k993m8ln5gwyv6h0000gn/T/ipykernel_70649/1769285383.py:4: DeprecationWarning: Sampling from a set deprecated\n",
      "since Python 3.9 and will be removed in a subsequent version.\n",
      "  n1,n2 = random.sample(G.nodes, 2)\n"
     ]
    }
   ],
   "source": [
    "sh_path = []\n",
    "\n",
    "for i in range(1000):\n",
    "    n1,n2 = random.sample(G.nodes, 2)\n",
    "    try:\n",
    "        shortest_path_length = nx.shortest_path_length(G, n1, n2)\n",
    "        sh_path.append(shortest_path_length)\n",
    "    except nx.NetworkXNoPath:\n",
    "        pass"
   ]
  },
  {
   "cell_type": "code",
   "execution_count": 13,
   "id": "dd2f447d",
   "metadata": {},
   "outputs": [
    {
     "name": "stdout",
     "output_type": "stream",
     "text": [
      "Estimated: 2.7\n"
     ]
    }
   ],
   "source": [
    "mean_sh_path = sum(sh_path) / len(sh_path)\n",
    "print(\"Estimated:\", round(mean_sh_path, 1))"
   ]
  },
  {
   "cell_type": "markdown",
   "id": "35ec2cf9",
   "metadata": {},
   "source": [
    "### Q5. Apply a slight modification to the above procedure to estimate the diameter of the network. Report the approximate diameter."
   ]
  },
  {
   "cell_type": "code",
   "execution_count": 14,
   "id": "83b246ad",
   "metadata": {},
   "outputs": [
    {
     "name": "stderr",
     "output_type": "stream",
     "text": [
      "/var/folders/_3/98b473cn1k993m8ln5gwyv6h0000gn/T/ipykernel_70649/1718690404.py:4: DeprecationWarning: Sampling from a set deprecated\n",
      "since Python 3.9 and will be removed in a subsequent version.\n",
      "  n1,n2 = random.sample(G.nodes, 2)\n"
     ]
    }
   ],
   "source": [
    "max_sh_path = 0\n",
    "\n",
    "for i in range(1000):\n",
    "    n1,n2 = random.sample(G.nodes, 2)\n",
    "    try:\n",
    "        sh_path_length = nx.shortest_path_length(G, n1, n2)\n",
    "        if shortest_path_length > max_sh_path:\n",
    "            max_sh_path = sh_path_length\n",
    "    except nx.NetworkXNoPath:\n",
    "        pass"
   ]
  },
  {
   "cell_type": "code",
   "execution_count": 15,
   "id": "2da19259",
   "metadata": {},
   "outputs": [
    {
     "name": "stdout",
     "output_type": "stream",
     "text": [
      "Diameter: 3\n"
     ]
    }
   ],
   "source": [
    "print(\"Diameter:\", round(max_sh_path,1))"
   ]
  },
  {
   "cell_type": "markdown",
   "id": "3b309565",
   "metadata": {},
   "source": [
    "### Q6. What is the average clustering coefficient for this network? Answer to at least two decimal places."
   ]
  },
  {
   "cell_type": "code",
   "execution_count": 16,
   "id": "45c7d001",
   "metadata": {},
   "outputs": [
    {
     "data": {
      "text/plain": [
       "0.24"
      ]
     },
     "execution_count": 16,
     "metadata": {},
     "output_type": "execute_result"
    }
   ],
   "source": [
    "round(nx.average_clustering(G), 2)"
   ]
  },
  {
   "cell_type": "markdown",
   "id": "cc1f5c8c",
   "metadata": {},
   "source": [
    "### Q7. Is this network assortative or disassortative? Answer this question using the two methods shown in the textbook and class. Do the answers differ?"
   ]
  },
  {
   "cell_type": "code",
   "execution_count": 17,
   "id": "15299b4c",
   "metadata": {},
   "outputs": [
    {
     "data": {
      "text/plain": [
       "0.03444129080711028"
      ]
     },
     "execution_count": 17,
     "metadata": {},
     "output_type": "execute_result"
    }
   ],
   "source": [
    "r = nx.degree_assortativity_coefficient(G)\n",
    "r"
   ]
  },
  {
   "cell_type": "code",
   "execution_count": 18,
   "id": "c6b4eb38",
   "metadata": {},
   "outputs": [],
   "source": [
    "neighbor_degree_corr = nx.degree_pearson_correlation_coefficient(G)"
   ]
  },
  {
   "cell_type": "code",
   "execution_count": 20,
   "id": "0fc67a4f",
   "metadata": {},
   "outputs": [
    {
     "name": "stdout",
     "output_type": "stream",
     "text": [
      "Degree Assortativity Coefficient: 0.03444129080711028\n",
      "Average Nearest Neighbor Degree Correlation Coefficient: 0.034441290807109316\n"
     ]
    }
   ],
   "source": [
    "print(\"Degree Assortativity Coefficient:\", r)\n",
    "print(\"Average Nearest Neighbor Degree Correlation Coefficient:\", neighbor_degree_corr)"
   ]
  },
  {
   "cell_type": "markdown",
   "id": "5cd0d843",
   "metadata": {},
   "source": [
    "Here the assortativity coefficient is positive and thus, we can say that the network is assortative."
   ]
  },
  {
   "cell_type": "code",
   "execution_count": null,
   "id": "8efbfce6",
   "metadata": {},
   "outputs": [],
   "source": []
  }
 ],
 "metadata": {
  "kernelspec": {
   "display_name": "Python 3 (ipykernel)",
   "language": "python",
   "name": "python3"
  },
  "language_info": {
   "codemirror_mode": {
    "name": "ipython",
    "version": 3
   },
   "file_extension": ".py",
   "mimetype": "text/x-python",
   "name": "python",
   "nbconvert_exporter": "python",
   "pygments_lexer": "ipython3",
   "version": "3.9.12"
  }
 },
 "nbformat": 4,
 "nbformat_minor": 5
}
