{
 "cells": [
  {
   "cell_type": "markdown",
   "id": "3c0c4b62",
   "metadata": {},
   "source": [
    "# Assignment 3\n",
    "---\n",
    "Spring '24 - Anushree Kolhe"
   ]
  },
  {
   "cell_type": "code",
   "execution_count": 1,
   "id": "2ad636ee",
   "metadata": {},
   "outputs": [],
   "source": [
    "import networkx as nx"
   ]
  },
  {
   "cell_type": "markdown",
   "id": "63292f51",
   "metadata": {},
   "source": [
    "## Section 1: Friendships Network"
   ]
  },
  {
   "cell_type": "code",
   "execution_count": 2,
   "id": "3e4606d6",
   "metadata": {},
   "outputs": [
    {
     "name": "stdout",
     "output_type": "stream",
     "text": [
      "Graph with 180 nodes and 2220 edges\n"
     ]
    },
    {
     "name": "stderr",
     "output_type": "stream",
     "text": [
      "/var/folders/_3/98b473cn1k993m8ln5gwyv6h0000gn/T/ipykernel_51406/2221535143.py:2: DeprecationWarning: info is deprecated and will be removed in version 3.0.\n",
      "\n",
      "  print(nx.info(G))\n"
     ]
    }
   ],
   "source": [
    "G = nx.read_graphml('Data/highschool_2012.graphml')\n",
    "print(nx.info(G))\n",
    "\n",
    "total_nodes = nx.number_of_nodes(G)\n",
    "total_edges = nx.number_of_edges(G)"
   ]
  },
  {
   "cell_type": "code",
   "execution_count": 4,
   "id": "b93be756",
   "metadata": {},
   "outputs": [
    {
     "name": "stdout",
     "output_type": "stream",
     "text": [
      "Node with highest degree: 826\n",
      "Highest degree: 56\n",
      "\n"
     ]
    }
   ],
   "source": [
    "highest_degree = max(G.degree(), key=lambda x: x[1])\n",
    "print(f'Node with highest degree: {highest_degree[0]}')\n",
    "print(f'Highest degree: {highest_degree[1]}\\n')"
   ]
  },
  {
   "cell_type": "code",
   "execution_count": 5,
   "id": "e0e3d538",
   "metadata": {},
   "outputs": [
    {
     "name": "stdout",
     "output_type": "stream",
     "text": [
      "Node with largest clustering coefficient: 647\n",
      "Largest clustering coefficient: 1.0\n",
      "\n"
     ]
    }
   ],
   "source": [
    "largest_cl_coeff = max(nx.clustering(G).items(), key=lambda x: x[1])\n",
    "print(f'Node with largest clustering coefficient: {largest_cl_coeff[0]}')\n",
    "print(f'Largest clustering coefficient: {largest_cl_coeff[1]}\\n')"
   ]
  },
  {
   "cell_type": "code",
   "execution_count": 6,
   "id": "37dd753b",
   "metadata": {},
   "outputs": [
    {
     "name": "stdout",
     "output_type": "stream",
     "text": [
      "Average clustering coefficient of the n/w: 0.4752\n",
      "\n"
     ]
    }
   ],
   "source": [
    "average_cl_coeff = round(nx.average_clustering(G), 4)\n",
    "print(f'Average clustering coefficient of the n/w: {average_cl_coeff}\\n')"
   ]
  },
  {
   "cell_type": "code",
   "execution_count": 7,
   "id": "7c14a22e",
   "metadata": {},
   "outputs": [],
   "source": [
    "total_Mnodes = 0\n",
    "total_Fnodes = 0\n",
    "\n",
    "for node, attributes in G.nodes(data=True):\n",
    "    if attributes['gender'] == 'M' :\n",
    "        total_Mnodes += 1\n",
    "    else :\n",
    "        total_Fnodes += 1\n",
    "        \n",
    "proportion_male = round(total_Mnodes/total_nodes, 4)\n",
    "proportion_female = round(total_Fnodes/total_nodes, 4)"
   ]
  },
  {
   "cell_type": "code",
   "execution_count": 8,
   "id": "b02fac3e",
   "metadata": {},
   "outputs": [
    {
     "name": "stdout",
     "output_type": "stream",
     "text": [
      "Proportion of the nodes in the graph are male: 0.7333\n",
      "Proportion of the nodes in the graph are female: 0.2667\n",
      "\n"
     ]
    }
   ],
   "source": [
    "print(f'Proportion of the nodes in the graph are male: {proportion_male}')\n",
    "print(f'Proportion of the nodes in the graph are female: {proportion_female}\\n')"
   ]
  },
  {
   "cell_type": "code",
   "execution_count": 9,
   "id": "861a5dad",
   "metadata": {},
   "outputs": [],
   "source": [
    "# Expected / Calculated values\n",
    "expected_edges_ = {'M-M': 0, 'F-F': 0, 'M-F': 0}\n",
    "\n",
    "expected_edges_['M-M'] = round(proportion_male*proportion_male*total_edges) #m^2\n",
    "expected_edges_['F-F'] = round(proportion_female*proportion_female*total_edges) #f^2\n",
    "expected_edges_['M-F'] = round(2*proportion_male*proportion_female*total_edges) #2mf\n",
    "\n",
    "\n",
    "# Actual values\n",
    "edges_ = {'M-M': 0, 'F-F': 0, 'M-F': 0}\n",
    "\n",
    "for node1, node2, attr in G.edges(data=True):\n",
    "    if G.nodes[node1]['gender'] != G.nodes[node2]['gender']:\n",
    "        edges_['M-F'] += 1\n",
    "    elif G.nodes[node1]['gender'] == 'M':\n",
    "        edges_['M-M'] += 1\n",
    "    else:\n",
    "        edges_['F-F'] += 1"
   ]
  },
  {
   "cell_type": "code",
   "execution_count": 10,
   "id": "845acf5d",
   "metadata": {},
   "outputs": [
    {
     "name": "stdout",
     "output_type": "stream",
     "text": [
      "Expected edge values:\n",
      "{'M-M': 1194, 'F-F': 158, 'M-F': 868}\n",
      "\n",
      "Actual edge values:\n",
      "{'M-M': 1276, 'F-F': 182, 'M-F': 762}\n",
      "\n",
      "Expected sum: 2220\n",
      "Actual sum: 2220\n",
      "\n"
     ]
    }
   ],
   "source": [
    "print(f'Expected edge values:\\n{expected_edges_}\\n')\n",
    "print(f'Actual edge values:\\n{edges_}\\n')\n",
    "print(f'Expected sum: {sum(expected_edges_.values())}')\n",
    "print(f'Actual sum: {sum(edges_.values())}\\n')"
   ]
  },
  {
   "cell_type": "code",
   "execution_count": 11,
   "id": "f4e914d6",
   "metadata": {},
   "outputs": [
    {
     "name": "stdout",
     "output_type": "stream",
     "text": [
      "Expected edges M-F: 868\n",
      "\n",
      "Actual edges M-F: 762\n",
      "\n"
     ]
    }
   ],
   "source": [
    "print(f'Expected edges M-F: {expected_edges_[\"M-F\"]}\\n')\n",
    "print(f'Actual edges M-F: {edges_[\"M-F\"]}\\n')"
   ]
  },
  {
   "cell_type": "markdown",
   "id": "a7c2b815",
   "metadata": {},
   "source": [
    "## Section 2: Club Membership Network"
   ]
  },
  {
   "cell_type": "code",
   "execution_count": null,
   "id": "0e1a17a7",
   "metadata": {},
   "outputs": [],
   "source": []
  }
 ],
 "metadata": {
  "kernelspec": {
   "display_name": "Python 3 (ipykernel)",
   "language": "python",
   "name": "python3"
  },
  "language_info": {
   "codemirror_mode": {
    "name": "ipython",
    "version": 3
   },
   "file_extension": ".py",
   "mimetype": "text/x-python",
   "name": "python",
   "nbconvert_exporter": "python",
   "pygments_lexer": "ipython3",
   "version": "3.9.12"
  }
 },
 "nbformat": 4,
 "nbformat_minor": 5
}
