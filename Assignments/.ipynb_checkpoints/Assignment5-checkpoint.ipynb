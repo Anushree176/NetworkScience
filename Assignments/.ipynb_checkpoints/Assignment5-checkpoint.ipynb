{
 "cells": [
  {
   "cell_type": "markdown",
   "metadata": {},
   "source": [
    "# Welcome to Assignment 5\n",
    "There are two parts in this assignment. The conceptual questions could be answered by words, and the coding questions require some computation."
   ]
  },
  {
   "cell_type": "markdown",
   "metadata": {},
   "source": [
    "## Conceptual questions\n",
    "### Q1. Suppose we want to build a connected network with 10 nodes and average degree 1.8, such that the heterogeneity parameter is largest. What does the graph look like?\n",
    "\n",
    "hint: you don't have to use Networkx to construct a network and plot it. A simple description would do :)"
   ]
  },
  {
   "cell_type": "markdown",
   "metadata": {},
   "source": [
    "We have ten nodes, and the average degree is 1.8. To maximize the heterogeneity parameter, we need a graph with hubs. The presence of a hub ensures that the heterogeneity parameter will be high, as they are directly correlated. Also, since the average degree is close to 2 but slightly lesser, we need nodes with degrees 2 or less than 2, except for the hub. The hub will inflate the average degree value with its high degree.\n",
    "<br><br>Therefore, the network will have a high-degree hub and nodes with very low degrees."
   ]
  },
  {
   "cell_type": "markdown",
   "metadata": {},
   "source": [
    "### Q2. Are there networks such that the average number of neighbors of a node’s neighbors match the average degree? If there are, what property must they have?"
   ]
  },
  {
   "cell_type": "markdown",
   "metadata": {},
   "source": [
    "Yes, there are networks where the average number of neighbors of a node's neighbors matches the average degree. For this to hold true, we need a network where the high-degree nodes are connected to other high-degree nodes, and the low-degree nodes are connected to other low-degree nodes. This type of behavior can be observed in an assortative network. Thus, the graph needs to be an assortative network."
   ]
  },
  {
   "cell_type": "markdown",
   "metadata": {},
   "source": [
    "## Coding Questions"
   ]
  },
  {
   "cell_type": "markdown",
   "metadata": {},
   "source": [
    "We will be using **socfb-Northwestern25** network for the following questions. You could find it in the book’s Github repository dataset folder or on Canvas. It is a snapshot of Northwestern University’s Facebook network. The nodes are anonymous users and the links are friend relationships. Load this network into a NetworkX graph in order to answer the following questions. **Be sure to use the proper graph class for an undirected, unweighted network.**"
   ]
  },
  {
   "cell_type": "code",
   "execution_count": 3,
   "metadata": {},
   "outputs": [],
   "source": [
    "import numpy as np\n",
    "import os\n",
    "import networkx as nx"
   ]
  },
  {
   "cell_type": "code",
   "execution_count": 4,
   "metadata": {},
   "outputs": [
    {
     "name": "stderr",
     "output_type": "stream",
     "text": [
      "/var/folders/_3/98b473cn1k993m8ln5gwyv6h0000gn/T/ipykernel_80415/2719763623.py:6: DeprecationWarning: info is deprecated and will be removed in version 3.0.\n",
      "\n",
      "  nx.info(G)\n"
     ]
    },
    {
     "data": {
      "text/plain": [
       "'Graph with 10567 nodes and 488337 edges'"
      ]
     },
     "execution_count": 4,
     "metadata": {},
     "output_type": "execute_result"
    }
   ],
   "source": [
    "current_directory = os.getcwd()\n",
    "# move back a directory\n",
    "parent_dir = os.path.dirname(current_directory)\n",
    "\n",
    "G = nx.read_edgelist(parent_dir + '/datasets/socfb-Northwestern25/socfb-Northwestern25.edges.gz')\n",
    "nx.info(G)"
   ]
  },
  {
   "cell_type": "markdown",
   "metadata": {},
   "source": [
    "### Q3.  What proportion of nodes have degree 100 or greater?\n",
    "hint: ratio of number of nodes having degree no less than 100 divided by the total number of nodes."
   ]
  },
  {
   "cell_type": "code",
   "execution_count": 5,
   "metadata": {},
   "outputs": [
    {
     "data": {
      "text/plain": [
       "10567"
      ]
     },
     "execution_count": 5,
     "metadata": {},
     "output_type": "execute_result"
    }
   ],
   "source": [
    "total_nodes = G.number_of_nodes()\n",
    "total_nodes"
   ]
  },
  {
   "cell_type": "code",
   "execution_count": 6,
   "metadata": {},
   "outputs": [],
   "source": [
    "degree_100greater = 0\n",
    "\n",
    "all_degrees = dict(G.degree())\n",
    "    \n",
    "for node,degree in all_degrees.items() :\n",
    "    if degree >= 100:\n",
    "        degree_100greater += 1"
   ]
  },
  {
   "cell_type": "code",
   "execution_count": 7,
   "metadata": {},
   "outputs": [
    {
     "name": "stdout",
     "output_type": "stream",
     "text": [
      "Proportion of nodes have degree 100 or greater: 0.3821\n"
     ]
    }
   ],
   "source": [
    "proportion = degree_100greater/total_nodes\n",
    "print(f'Proportion of nodes have degree 100 or greater: {round(proportion, 4)}')"
   ]
  },
  {
   "cell_type": "markdown",
   "metadata": {},
   "source": [
    "### Q4. What is the maximum degree in this network?"
   ]
  },
  {
   "cell_type": "markdown",
   "metadata": {},
   "source": [
    "### Q5. Users in this network are anonymized by giving the nodes numerical names. Which node has the highest degree?"
   ]
  },
  {
   "cell_type": "code",
   "execution_count": 8,
   "metadata": {},
   "outputs": [
    {
     "name": "stdout",
     "output_type": "stream",
     "text": [
      "Highest degree: 2105\n",
      "Nodes with highest degree: ['8262']\n"
     ]
    }
   ],
   "source": [
    "highest_degree = max(G.degree(), key=lambda x: x[1])[1]\n",
    "nodes_highest_degree = [node for node, degree in G.degree() if degree == highest_degree]\n",
    "\n",
    "print(f'Highest degree: {highest_degree}')\n",
    "print(f'Nodes with highest degree: {nodes_highest_degree}')"
   ]
  },
  {
   "cell_type": "markdown",
   "metadata": {},
   "source": [
    "We check if there are multiple nodes/users with the highest degree. But as we observe, there is only one user: 8262 having the maximum degree."
   ]
  },
  {
   "cell_type": "markdown",
   "metadata": {},
   "source": [
    "### Q6. What is 95th percentile for degree, i.e., the value such that 95% of nodes have this degree or less?"
   ]
  },
  {
   "cell_type": "code",
   "execution_count": 12,
   "metadata": {},
   "outputs": [
    {
     "name": "stdout",
     "output_type": "stream",
     "text": [
      "95th percentile for degree: 244\n"
     ]
    }
   ],
   "source": [
    "degrees = list(all_degrees.values())\n",
    "degrees_sorted = sorted(degrees)\n",
    "\n",
    "\n",
    "# 95th percentile index\n",
    "index_95 = int(np.ceil(0.95 * len(degrees_sorted)))\n",
    "percentile_95 = degrees_sorted[index_95 - 1] \n",
    "\n",
    "print(f'95th percentile for degree: {percentile_95}')"
   ]
  },
  {
   "cell_type": "markdown",
   "metadata": {},
   "source": [
    "### Q7. Is the network assortative or disassortative?"
   ]
  },
  {
   "cell_type": "code",
   "execution_count": 13,
   "metadata": {},
   "outputs": [
    {
     "name": "stdout",
     "output_type": "stream",
     "text": [
      "0.0344\n"
     ]
    }
   ],
   "source": [
    "assortativity_coef = nx.degree_assortativity_coefficient(G)\n",
    "print(round(assortativity_coef, 4))"
   ]
  },
  {
   "cell_type": "markdown",
   "metadata": {},
   "source": [
    "Here the assortativity coefficient is positive and thus, we can say that the network is assortative.\n",
    "This means high-degree nodes are connected to other high-degree nodes, and low-degree nodes are connected to other low-degree nodes"
   ]
  },
  {
   "cell_type": "markdown",
   "metadata": {},
   "source": [
    "### Q8. What is the mean degree for nodes in this network?"
   ]
  },
  {
   "cell_type": "code",
   "execution_count": 14,
   "metadata": {},
   "outputs": [
    {
     "name": "stdout",
     "output_type": "stream",
     "text": [
      "Mean degree: 92.4268\n"
     ]
    }
   ],
   "source": [
    "mean_degree = sum(degrees)/len(degrees)\n",
    "\n",
    "print(f\"Mean degree: {round(mean_degree, 4)}\")"
   ]
  },
  {
   "cell_type": "markdown",
   "metadata": {},
   "source": [
    "### Q9. Which of the following shapes best describes the degree distribution in this network? You can obtain the answer visually using tools we have introduced such as histograms, cumulatives, or log-scale plots.\n",
    "\n",
    "a) Normal  \n",
    "b) Poissonian  \n",
    "c) Power law  \n",
    "d) Exponential  \n",
    "\n",
    "Hint: 1) At least one visualization is needed 2) select your answer from the four options based on your visualizations. "
   ]
  },
  {
   "cell_type": "code",
   "execution_count": 28,
   "metadata": {},
   "outputs": [
    {
     "data": {
      "image/png": "[encoded data removed]",
      "text/plain": [
       "<Figure size 1080x576 with 1 Axes>"
      ]
     },
     "metadata": {
      "needs_background": "light"
     },
     "output_type": "display_data"
    }
   ],
   "source": [
    "import matplotlib.pyplot as plt\n",
    "\n",
    "plt.figure(figsize=(15, 8))\n",
    "plt.hist(degrees, bins=25)\n",
    "plt.title('Degree Distribution Histogram')\n",
    "plt.xlabel('Degree')\n",
    "plt.ylabel('Frequency')\n",
    "plt.show()"
   ]
  },
  {
   "cell_type": "markdown",
   "metadata": {},
   "source": [
    "The above plot has a peak and a skewed normal distribution. The right tail of the plot is very long and it seems like an Exponential distribution. Taking a look at the log scale plot of the same will shed more light."
   ]
  },
  {
   "cell_type": "code",
   "execution_count": 27,
   "metadata": {},
   "outputs": [
    {
     "data": {
      "image/png": "[encoded data removed]",
      "text/plain": [
       "<Figure size 1080x576 with 1 Axes>"
      ]
     },
     "metadata": {
      "needs_background": "light"
     },
     "output_type": "display_data"
    }
   ],
   "source": [
    "# Plot log-log plot\n",
    "degree_counts = nx.degree_histogram(G)\n",
    "degrees_range = range(len(degree_counts))\n",
    "plt.figure(figsize=(15, 8))\n",
    "plt.loglog(degrees_range, degree_counts)\n",
    "plt.xlabel('Degree (log scale)')\n",
    "plt.ylabel('Frequency (log scale)')\n",
    "plt.show()"
   ]
  },
  {
   "cell_type": "code",
   "execution_count": null,
   "metadata": {},
   "outputs": [],
   "source": []
  }
 ],
 "metadata": {
  "kernelspec": {
   "display_name": "Python 3 (ipykernel)",
   "language": "python",
   "name": "python3"
  },
  "language_info": {
   "codemirror_mode": {
    "name": "ipython",
    "version": 3
   },
   "file_extension": ".py",
   "mimetype": "text/x-python",
   "name": "python",
   "nbconvert_exporter": "python",
   "pygments_lexer": "ipython3",
   "version": "3.9.12"
  }
 },
 "nbformat": 4,
 "nbformat_minor": 4
}
