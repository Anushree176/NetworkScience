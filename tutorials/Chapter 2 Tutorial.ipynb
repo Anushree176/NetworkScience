{
 "cells": [
  {
   "cell_type": "markdown",
   "metadata": {},
   "source": [
    "# Chapter 2 Tutorial\n",
    "\n",
    "Note that many exercises are followed by a block with some `assert` statements. These assertions may be preceded by some setup code. They are provided to give you feedback that you are on the right path -- receiving an `AssertionError` probably means you've done something wrong.\n",
    "\n",
    "Contents:\n",
    "\n",
    "1. Paths\n",
    "2. Connected components\n",
    "3. Directed paths & components\n",
    "4. Dataset: US air traffic network"
   ]
  },
  {
   "cell_type": "code",
   "execution_count": 1,
   "metadata": {},
   "outputs": [],
   "source": [
    "import networkx as nx\n",
    "%matplotlib inline"
   ]
  },
  {
   "cell_type": "markdown",
   "metadata": {},
   "source": [
    "# 1. Paths\n",
    "\n",
    "Let's start with a very simple, undirected network."
   ]
  },
  {
   "cell_type": "code",
   "execution_count": 2,
   "metadata": {},
   "outputs": [
    {
     "data": {
      "image/png": "[encoded data removed]",
      "text/plain": [
       "<Figure size 432x288 with 1 Axes>"
      ]
     },
     "metadata": {},
     "output_type": "display_data"
    }
   ],
   "source": [
    "G = nx.Graph()\n",
    "\n",
    "G.add_nodes_from([1,2,3,4])\n",
    "\n",
    "G.add_edges_from([(1,2),(2,3),(1,3),(1,4)])\n",
    "\n",
    "nx.draw(G, with_labels=True)"
   ]
  },
  {
   "cell_type": "markdown",
   "metadata": {},
   "source": [
    "A *path* in a network is a sequence of edges connecting two nodes. In this simple example, we can easily see that there is indeed at least one path that connects nodes 3 and 4. We can verify this with NetworkX:"
   ]
  },
  {
   "cell_type": "code",
   "execution_count": 3,
   "metadata": {},
   "outputs": [
    {
     "data": {
      "text/plain": [
       "True"
      ]
     },
     "execution_count": 3,
     "metadata": {},
     "output_type": "execute_result"
    }
   ],
   "source": [
    "nx.has_path(G, 3, 4)"
   ]
  },
  {
   "cell_type": "markdown",
   "metadata": {},
   "source": [
    "There can be more than one path between two nodes. Again considering nodes 3 and 4, there are two such \"simple\" paths:"
   ]
  },
  {
   "cell_type": "code",
   "execution_count": 4,
   "metadata": {},
   "outputs": [
    {
     "data": {
      "text/plain": [
       "[[3, 2, 1, 4], [3, 1, 4]]"
      ]
     },
     "execution_count": 4,
     "metadata": {},
     "output_type": "execute_result"
    }
   ],
   "source": [
    "list(nx.all_simple_paths(G, 3, 4))"
   ]
  },
  {
   "cell_type": "markdown",
   "metadata": {},
   "source": [
    "A simple path is one without any cycles. If we allowed cycles, there would be infinitely many paths because one could always just go around the cycle as many times as desired.\n",
    "\n",
    "We are often most interested in *shortest* paths. In an unweighted network, the shortest path is the one with the fewest edges. We can see that of the two simple paths between nodes 3 and 4, one is shorter than the other. We can get this shortest path with a single NetworkX function:"
   ]
  },
  {
   "cell_type": "code",
   "execution_count": 5,
   "metadata": {},
   "outputs": [
    {
     "data": {
      "text/plain": [
       "[3, 1, 4]"
      ]
     },
     "execution_count": 5,
     "metadata": {},
     "output_type": "execute_result"
    }
   ],
   "source": [
    "nx.shortest_path(G, 3, 4)"
   ]
  },
  {
   "cell_type": "markdown",
   "metadata": {},
   "source": [
    "If you only care about the path length, there's a function for that too:"
   ]
  },
  {
   "cell_type": "code",
   "execution_count": 6,
   "metadata": {},
   "outputs": [
    {
     "data": {
      "text/plain": [
       "2"
      ]
     },
     "execution_count": 6,
     "metadata": {},
     "output_type": "execute_result"
    }
   ],
   "source": [
    "nx.shortest_path_length(G, 3, 4)"
   ]
  },
  {
   "cell_type": "markdown",
   "metadata": {},
   "source": [
    "Note that a path length is defined here by the number of *edges* in the path, not the number of nodes, which implies\n",
    "\n",
    "    nx.shortest_path_length(G, u, v) == len(nx.shortest_path(G, u, v)) - 1\n",
    "    \n",
    "for nodes $u$ and $v$."
   ]
  },
  {
   "cell_type": "markdown",
   "metadata": {},
   "source": [
    "## 2. Connected components\n",
    "\n",
    "In the simple network above, we can see that for *every* pair of nodes, we can find a path connecting them. This is the definition of a *connected* graph. We can check this property for a given graph:"
   ]
  },
  {
   "cell_type": "code",
   "execution_count": 7,
   "metadata": {},
   "outputs": [
    {
     "data": {
      "text/plain": [
       "True"
      ]
     },
     "execution_count": 7,
     "metadata": {},
     "output_type": "execute_result"
    }
   ],
   "source": [
    "nx.is_connected(G)"
   ]
  },
  {
   "cell_type": "markdown",
   "metadata": {},
   "source": [
    "Not every graph is connected:"
   ]
  },
  {
   "cell_type": "code",
   "execution_count": 8,
   "metadata": {},
   "outputs": [
    {
     "data": {
      "image/png": "[encoded data removed]",
      "text/plain": [
       "<Figure size 432x288 with 1 Axes>"
      ]
     },
     "metadata": {},
     "output_type": "display_data"
    }
   ],
   "source": [
    "G = nx.Graph()\n",
    "\n",
    "nx.add_cycle(G, (1,2,3))\n",
    "G.add_edge(4,5)\n",
    "\n",
    "nx.draw(G, with_labels=True)"
   ]
  },
  {
   "cell_type": "code",
   "execution_count": 9,
   "metadata": {},
   "outputs": [
    {
     "data": {
      "text/plain": [
       "False"
      ]
     },
     "execution_count": 9,
     "metadata": {},
     "output_type": "execute_result"
    }
   ],
   "source": [
    "nx.is_connected(G)"
   ]
  },
  {
   "cell_type": "markdown",
   "metadata": {},
   "source": [
    "And NetworkX will raise an error if you ask for a path between nodes where none exists:"
   ]
  },
  {
   "cell_type": "code",
   "execution_count": 10,
   "metadata": {},
   "outputs": [
    {
     "data": {
      "text/plain": [
       "False"
      ]
     },
     "execution_count": 10,
     "metadata": {},
     "output_type": "execute_result"
    }
   ],
   "source": [
    "nx.has_path(G, 3, 5)"
   ]
  },
  {
   "cell_type": "code",
   "execution_count": 11,
   "metadata": {
    "scrolled": true,
    "tags": [
     "raises-exception"
    ]
   },
   "outputs": [
    {
     "ename": "NetworkXNoPath",
     "evalue": "No path between 3 and 5.",
     "output_type": "error",
     "traceback": [
      "\u001b[0;31m---------------------------------------------------------------------------\u001b[0m",
      "\u001b[0;31mNetworkXNoPath\u001b[0m                            Traceback (most recent call last)",
      "Input \u001b[0;32mIn [11]\u001b[0m, in \u001b[0;36m<cell line: 1>\u001b[0;34m()\u001b[0m\n\u001b[0;32m----> 1\u001b[0m \u001b[43mnx\u001b[49m\u001b[38;5;241;43m.\u001b[39;49m\u001b[43mshortest_path\u001b[49m\u001b[43m(\u001b[49m\u001b[43mG\u001b[49m\u001b[43m,\u001b[49m\u001b[43m \u001b[49m\u001b[38;5;241;43m3\u001b[39;49m\u001b[43m,\u001b[49m\u001b[43m \u001b[49m\u001b[38;5;241;43m5\u001b[39;49m\u001b[43m)\u001b[49m\n",
      "File \u001b[0;32m~/opt/anaconda3/lib/python3.9/site-packages/networkx/algorithms/shortest_paths/generic.py:165\u001b[0m, in \u001b[0;36mshortest_path\u001b[0;34m(G, source, target, weight, method)\u001b[0m\n\u001b[1;32m    162\u001b[0m \u001b[38;5;28;01melse\u001b[39;00m:\n\u001b[1;32m    163\u001b[0m     \u001b[38;5;66;03m# Find shortest source-target path.\u001b[39;00m\n\u001b[1;32m    164\u001b[0m     \u001b[38;5;28;01mif\u001b[39;00m method \u001b[38;5;241m==\u001b[39m \u001b[38;5;124m\"\u001b[39m\u001b[38;5;124munweighted\u001b[39m\u001b[38;5;124m\"\u001b[39m:\n\u001b[0;32m--> 165\u001b[0m         paths \u001b[38;5;241m=\u001b[39m \u001b[43mnx\u001b[49m\u001b[38;5;241;43m.\u001b[39;49m\u001b[43mbidirectional_shortest_path\u001b[49m\u001b[43m(\u001b[49m\u001b[43mG\u001b[49m\u001b[43m,\u001b[49m\u001b[43m \u001b[49m\u001b[43msource\u001b[49m\u001b[43m,\u001b[49m\u001b[43m \u001b[49m\u001b[43mtarget\u001b[49m\u001b[43m)\u001b[49m\n\u001b[1;32m    166\u001b[0m     \u001b[38;5;28;01melif\u001b[39;00m method \u001b[38;5;241m==\u001b[39m \u001b[38;5;124m\"\u001b[39m\u001b[38;5;124mdijkstra\u001b[39m\u001b[38;5;124m\"\u001b[39m:\n\u001b[1;32m    167\u001b[0m         _, paths \u001b[38;5;241m=\u001b[39m nx\u001b[38;5;241m.\u001b[39mbidirectional_dijkstra(G, source, target, weight)\n",
      "File \u001b[0;32m~/opt/anaconda3/lib/python3.9/site-packages/networkx/algorithms/shortest_paths/unweighted.py:224\u001b[0m, in \u001b[0;36mbidirectional_shortest_path\u001b[0;34m(G, source, target)\u001b[0m\n\u001b[1;32m    221\u001b[0m     \u001b[38;5;28;01mraise\u001b[39;00m nx\u001b[38;5;241m.\u001b[39mNodeNotFound(msg)\n\u001b[1;32m    223\u001b[0m \u001b[38;5;66;03m# call helper to do the real work\u001b[39;00m\n\u001b[0;32m--> 224\u001b[0m results \u001b[38;5;241m=\u001b[39m \u001b[43m_bidirectional_pred_succ\u001b[49m\u001b[43m(\u001b[49m\u001b[43mG\u001b[49m\u001b[43m,\u001b[49m\u001b[43m \u001b[49m\u001b[43msource\u001b[49m\u001b[43m,\u001b[49m\u001b[43m \u001b[49m\u001b[43mtarget\u001b[49m\u001b[43m)\u001b[49m\n\u001b[1;32m    225\u001b[0m pred, succ, w \u001b[38;5;241m=\u001b[39m results\n\u001b[1;32m    227\u001b[0m \u001b[38;5;66;03m# build path from pred+w+succ\u001b[39;00m\n",
      "File \u001b[0;32m~/opt/anaconda3/lib/python3.9/site-packages/networkx/algorithms/shortest_paths/unweighted.py:292\u001b[0m, in \u001b[0;36m_bidirectional_pred_succ\u001b[0;34m(G, source, target)\u001b[0m\n\u001b[1;32m    289\u001b[0m                 \u001b[38;5;28;01mif\u001b[39;00m w \u001b[38;5;129;01min\u001b[39;00m pred:  \u001b[38;5;66;03m# found path\u001b[39;00m\n\u001b[1;32m    290\u001b[0m                     \u001b[38;5;28;01mreturn\u001b[39;00m pred, succ, w\n\u001b[0;32m--> 292\u001b[0m \u001b[38;5;28;01mraise\u001b[39;00m nx\u001b[38;5;241m.\u001b[39mNetworkXNoPath(\u001b[38;5;124mf\u001b[39m\u001b[38;5;124m\"\u001b[39m\u001b[38;5;124mNo path between \u001b[39m\u001b[38;5;132;01m{\u001b[39;00msource\u001b[38;5;132;01m}\u001b[39;00m\u001b[38;5;124m and \u001b[39m\u001b[38;5;132;01m{\u001b[39;00mtarget\u001b[38;5;132;01m}\u001b[39;00m\u001b[38;5;124m.\u001b[39m\u001b[38;5;124m\"\u001b[39m)\n",
      "\u001b[0;31mNetworkXNoPath\u001b[0m: No path between 3 and 5."
     ]
    }
   ],
   "source": [
    "nx.shortest_path(G, 3, 5)"
   ]
  },
  {
   "cell_type": "markdown",
   "metadata": {},
   "source": [
    "Visually, we can identify two connected components in our graph. Let's verify this:"
   ]
  },
  {
   "cell_type": "code",
   "execution_count": 12,
   "metadata": {},
   "outputs": [
    {
     "data": {
      "text/plain": [
       "2"
      ]
     },
     "execution_count": 12,
     "metadata": {},
     "output_type": "execute_result"
    }
   ],
   "source": [
    "nx.number_connected_components(G)"
   ]
  },
  {
   "cell_type": "markdown",
   "metadata": {},
   "source": [
    "The `nx.connected_components()` function takes a graph and returns a list of sets of node names, one such set for each connected component. Verify that the two sets in the following list correspond to the two connected components in the drawing of the graph above:"
   ]
  },
  {
   "cell_type": "code",
   "execution_count": 13,
   "metadata": {},
   "outputs": [
    {
     "data": {
      "text/plain": [
       "[{1, 2, 3}, {4, 5}]"
      ]
     },
     "execution_count": 13,
     "metadata": {},
     "output_type": "execute_result"
    }
   ],
   "source": [
    "list(nx.connected_components(G))"
   ]
  },
  {
   "cell_type": "markdown",
   "metadata": {},
   "source": [
    "In case you're not familiar with Python sets, they are collections of items without duplicates. These are useful for collecting node names because node names should be unique. As with other collections, we can get the number of items in a set with the `len` function:"
   ]
  },
  {
   "cell_type": "code",
   "execution_count": 14,
   "metadata": {},
   "outputs": [
    {
     "data": {
      "text/plain": [
       "3"
      ]
     },
     "execution_count": 14,
     "metadata": {},
     "output_type": "execute_result"
    }
   ],
   "source": [
    "components = list(nx.connected_components(G))\n",
    "len(components[0])"
   ]
  },
  {
   "cell_type": "markdown",
   "metadata": {},
   "source": [
    "We often care about the largest connected component, which is sometimes referred to as the *core* of the network. We can make use of Python's builtin `max` function in order to obtain the largest connected component. By default, Python's `max` function sorts things in lexicographic (i.e. alphabetical) order, which is not helpful here. We want the maximum connected component when sorted in order of their sizes, so we pass `len` as a key function:"
   ]
  },
  {
   "cell_type": "code",
   "execution_count": 15,
   "metadata": {},
   "outputs": [
    {
     "data": {
      "text/plain": [
       "{1, 2, 3}"
      ]
     },
     "execution_count": 15,
     "metadata": {},
     "output_type": "execute_result"
    }
   ],
   "source": [
    "max(nx.connected_components(G), key=len)"
   ]
  },
  {
   "cell_type": "markdown",
   "metadata": {},
   "source": [
    "While it's often enough to just have the list of node names, sometimes we need the actual subgraph consisting of the largest connected component. One way to get this is to pass the list of node names to the `G.subgraph()` function:"
   ]
  },
  {
   "cell_type": "code",
   "execution_count": 16,
   "metadata": {},
   "outputs": [
    {
     "data": {
      "image/png": "[encoded data removed]",
      "text/plain": [
       "<Figure size 432x288 with 1 Axes>"
      ]
     },
     "metadata": {},
     "output_type": "display_data"
    }
   ],
   "source": [
    "core_nodes = max(nx.connected_components(G), key=len)\n",
    "core = G.subgraph(core_nodes)\n",
    "\n",
    "nx.draw(core, with_labels=True)"
   ]
  },
  {
   "cell_type": "markdown",
   "metadata": {},
   "source": [
    "Those of you using tab-completion will also notice a `nx.connected_component_subgraphs()` function. This can also be used to get the core subgraph but the method shown is more efficient when you only care about the largest connected component.\n",
    "###### Depricated in Network 2.1\n",
    "\n",
    "Instead use: <br>\n",
    "G.subgrapgh(c).copy"
   ]
  },
  {
   "cell_type": "markdown",
   "metadata": {},
   "source": [
    "# 3. Directed paths & components\n",
    "\n",
    "Let's extend these ideas about paths and connected components to directed graphs."
   ]
  },
  {
   "cell_type": "code",
   "execution_count": 17,
   "metadata": {},
   "outputs": [
    {
     "data": {
      "image/png": "[encoded data removed]",
      "text/plain": [
       "<Figure size 432x288 with 1 Axes>"
      ]
     },
     "metadata": {},
     "output_type": "display_data"
    }
   ],
   "source": [
    "D = nx.DiGraph()\n",
    "D.add_edges_from([\n",
    "    (1,2),\n",
    "    (2,3),\n",
    "    (3,2), (3,4), (3,5),\n",
    "    (4,2), (4,5), (4,6),\n",
    "    (5,6),\n",
    "    (6,4),\n",
    "])\n",
    "nx.draw(D, with_labels=True)"
   ]
  },
  {
   "cell_type": "markdown",
   "metadata": {},
   "source": [
    "### Directed paths\n",
    "\n",
    "We know that in a directed graph, an edge from an arbitrary node $u$ to an arbitrary node $v$ does not imply that an edge exists from $v$ to $u$. Since paths must follow edge direction in directed graphs, the same asymmetry applies for paths. Observe that this graph has a path from 1 to 4, but not in the reverse direction."
   ]
  },
  {
   "cell_type": "code",
   "execution_count": 18,
   "metadata": {},
   "outputs": [
    {
     "data": {
      "text/plain": [
       "True"
      ]
     },
     "execution_count": 18,
     "metadata": {},
     "output_type": "execute_result"
    }
   ],
   "source": [
    "nx.has_path(D, 1, 4)"
   ]
  },
  {
   "cell_type": "code",
   "execution_count": 19,
   "metadata": {},
   "outputs": [
    {
     "data": {
      "text/plain": [
       "False"
      ]
     },
     "execution_count": 19,
     "metadata": {},
     "output_type": "execute_result"
    }
   ],
   "source": [
    "nx.has_path(D, 4, 1)"
   ]
  },
  {
   "cell_type": "markdown",
   "metadata": {},
   "source": [
    "The other NetworkX functions dealing with paths take this asymmetry into account as well:"
   ]
  },
  {
   "cell_type": "code",
   "execution_count": 20,
   "metadata": {},
   "outputs": [
    {
     "data": {
      "text/plain": [
       "[2, 3, 5]"
      ]
     },
     "execution_count": 20,
     "metadata": {},
     "output_type": "execute_result"
    }
   ],
   "source": [
    "nx.shortest_path(D, 2, 5)"
   ]
  },
  {
   "cell_type": "code",
   "execution_count": 21,
   "metadata": {},
   "outputs": [
    {
     "data": {
      "text/plain": [
       "[5, 6, 4, 2]"
      ]
     },
     "execution_count": 21,
     "metadata": {},
     "output_type": "execute_result"
    }
   ],
   "source": [
    "nx.shortest_path(D, 5, 2)"
   ]
  },
  {
   "cell_type": "markdown",
   "metadata": {},
   "source": [
    "Since there is no edge from 5 to 3, the shortest path from 5 to 2 cannot simply backtrack the shortest path from 2 to 5 -- it has to go a longer route through nodes 6 and 4."
   ]
  },
  {
   "cell_type": "markdown",
   "metadata": {},
   "source": [
    "### Directed components"
   ]
  },
  {
   "cell_type": "markdown",
   "metadata": {},
   "source": [
    "Directed networks have two kinds of connectivity. *Strongly connected* means that there exists a directed path between every pair of nodes, i.e., that from any node we can get to any other node while following edge directionality. Think of cars on a network of one-way streets: they can't drive against the flow of traffic."
   ]
  },
  {
   "cell_type": "code",
   "execution_count": 22,
   "metadata": {},
   "outputs": [
    {
     "data": {
      "text/plain": [
       "False"
      ]
     },
     "execution_count": 22,
     "metadata": {},
     "output_type": "execute_result"
    }
   ],
   "source": [
    "nx.is_strongly_connected(D)"
   ]
  },
  {
   "cell_type": "markdown",
   "metadata": {},
   "source": [
    "*Weakly connected* means that there exist a path between every pair of nodes, regardless of direction. Think about pedestrians on a network of one-way streets: they walk on the sidewalks so they don't care about the direction of traffic."
   ]
  },
  {
   "cell_type": "code",
   "execution_count": 23,
   "metadata": {},
   "outputs": [
    {
     "data": {
      "text/plain": [
       "True"
      ]
     },
     "execution_count": 23,
     "metadata": {},
     "output_type": "execute_result"
    }
   ],
   "source": [
    "nx.is_weakly_connected(D)"
   ]
  },
  {
   "cell_type": "code",
   "execution_count": 24,
   "metadata": {},
   "outputs": [
    {
     "data": {
      "text/plain": [
       "True"
      ]
     },
     "execution_count": 24,
     "metadata": {},
     "output_type": "execute_result"
    }
   ],
   "source": [
    "# A directed graph is called strongly connected if there is a path in each direction between each pair \n",
    "# of vertices of the graph\n",
    "\n",
    "D.add_edge(4,1)\n",
    "nx.is_strongly_connected(D)"
   ]
  },
  {
   "cell_type": "markdown",
   "metadata": {},
   "source": [
    "If a network is strongly connected, it is also weakly connected. The converse is not always true, as seen in this example.\n",
    "\n",
    "The `is_connected` function for undirected graphs will raise an error when given a directed graph."
   ]
  },
  {
   "cell_type": "code",
   "execution_count": 25,
   "metadata": {
    "tags": [
     "raises-exception"
    ]
   },
   "outputs": [
    {
     "ename": "NetworkXNotImplemented",
     "evalue": "not implemented for directed type",
     "output_type": "error",
     "traceback": [
      "\u001b[0;31m---------------------------------------------------------------------------\u001b[0m",
      "\u001b[0;31mNetworkXNotImplemented\u001b[0m                    Traceback (most recent call last)",
      "Input \u001b[0;32mIn [25]\u001b[0m, in \u001b[0;36m<cell line: 2>\u001b[0;34m()\u001b[0m\n\u001b[1;32m      1\u001b[0m \u001b[38;5;66;03m# This will raise an error\u001b[39;00m\n\u001b[0;32m----> 2\u001b[0m \u001b[43mnx\u001b[49m\u001b[38;5;241;43m.\u001b[39;49m\u001b[43mis_connected\u001b[49m\u001b[43m(\u001b[49m\u001b[43mD\u001b[49m\u001b[43m)\u001b[49m\n",
      "File \u001b[0;32m<class 'networkx.utils.decorators.argmap'> compilation 12:3\u001b[0m, in \u001b[0;36margmap_is_connected_9\u001b[0;34m(G)\u001b[0m\n\u001b[1;32m      1\u001b[0m \u001b[38;5;28;01mfrom\u001b[39;00m \u001b[38;5;21;01mcollections\u001b[39;00m \u001b[38;5;28;01mimport\u001b[39;00m defaultdict\n\u001b[1;32m      2\u001b[0m \u001b[38;5;28;01mfrom\u001b[39;00m \u001b[38;5;21;01mos\u001b[39;00m\u001b[38;5;21;01m.\u001b[39;00m\u001b[38;5;21;01mpath\u001b[39;00m \u001b[38;5;28;01mimport\u001b[39;00m splitext\n\u001b[0;32m----> 3\u001b[0m \u001b[38;5;28;01mfrom\u001b[39;00m \u001b[38;5;21;01mcontextlib\u001b[39;00m \u001b[38;5;28;01mimport\u001b[39;00m contextmanager\n\u001b[1;32m      4\u001b[0m \u001b[38;5;28;01mfrom\u001b[39;00m \u001b[38;5;21;01mpathlib\u001b[39;00m \u001b[38;5;28;01mimport\u001b[39;00m Path\n\u001b[1;32m      6\u001b[0m \u001b[38;5;28;01mimport\u001b[39;00m \u001b[38;5;21;01mnetworkx\u001b[39;00m \u001b[38;5;28;01mas\u001b[39;00m \u001b[38;5;21;01mnx\u001b[39;00m\n",
      "File \u001b[0;32m~/opt/anaconda3/lib/python3.9/site-packages/networkx/utils/decorators.py:86\u001b[0m, in \u001b[0;36mnot_implemented_for.<locals>._not_implemented_for\u001b[0;34m(g)\u001b[0m\n\u001b[1;32m     82\u001b[0m \u001b[38;5;28;01mdef\u001b[39;00m \u001b[38;5;21m_not_implemented_for\u001b[39m(g):\n\u001b[1;32m     83\u001b[0m     \u001b[38;5;28;01mif\u001b[39;00m (mval \u001b[38;5;129;01mis\u001b[39;00m \u001b[38;5;28;01mNone\u001b[39;00m \u001b[38;5;129;01mor\u001b[39;00m mval \u001b[38;5;241m==\u001b[39m g\u001b[38;5;241m.\u001b[39mis_multigraph()) \u001b[38;5;129;01mand\u001b[39;00m (\n\u001b[1;32m     84\u001b[0m         dval \u001b[38;5;129;01mis\u001b[39;00m \u001b[38;5;28;01mNone\u001b[39;00m \u001b[38;5;129;01mor\u001b[39;00m dval \u001b[38;5;241m==\u001b[39m g\u001b[38;5;241m.\u001b[39mis_directed()\n\u001b[1;32m     85\u001b[0m     ):\n\u001b[0;32m---> 86\u001b[0m         \u001b[38;5;28;01mraise\u001b[39;00m nx\u001b[38;5;241m.\u001b[39mNetworkXNotImplemented(errmsg)\n\u001b[1;32m     88\u001b[0m     \u001b[38;5;28;01mreturn\u001b[39;00m g\n",
      "\u001b[0;31mNetworkXNotImplemented\u001b[0m: not implemented for directed type"
     ]
    }
   ],
   "source": [
    "# This will raise an error\n",
    "nx.is_connected(D)"
   ]
  },
  {
   "cell_type": "markdown",
   "metadata": {},
   "source": [
    "In the directed case, instead of `nx.connected_components` we now have `nx.weakly_connected_components` and `nx.strongly_connected_components`:"
   ]
  },
  {
   "cell_type": "code",
   "execution_count": 26,
   "metadata": {},
   "outputs": [
    {
     "data": {
      "text/plain": [
       "[{1, 2, 3, 4, 5, 6}]"
      ]
     },
     "execution_count": 26,
     "metadata": {},
     "output_type": "execute_result"
    }
   ],
   "source": [
    "list(nx.weakly_connected_components(D))"
   ]
  },
  {
   "cell_type": "code",
   "execution_count": 27,
   "metadata": {},
   "outputs": [
    {
     "data": {
      "text/plain": [
       "[{1, 2, 3, 4, 5, 6}]"
      ]
     },
     "execution_count": 27,
     "metadata": {},
     "output_type": "execute_result"
    }
   ],
   "source": [
    "list(nx.strongly_connected_components(D))"
   ]
  },
  {
   "cell_type": "markdown",
   "metadata": {},
   "source": [
    "## 4. Dataset: US air traffic network\n",
    "\n",
    "This repository contains several example network datasets. Among these is a network of US air travel routes:"
   ]
  },
  {
   "cell_type": "code",
   "execution_count": 28,
   "metadata": {},
   "outputs": [],
   "source": [
    "G = nx.read_graphml('../datasets/openflights/openflights_usa.graphml.gz')\n",
    "# graphml -> add properties for the nodes"
   ]
  },
  {
   "cell_type": "markdown",
   "metadata": {},
   "source": [
    "The nodes in this graph are airports, represented by their [IATA codes](https://en.wikipedia.org/wiki/List_of_airports_by_IATA_code:_A); two nodes are connected with an edge if there is a scheduled flight directly connecting these two airports. We'll assume this graph to be undirected since a flight in one direction usually means there is a return flight.\n",
    "\n",
    "Thus this graph has edges\n",
    "```\n",
    "[('HOM', 'ANC'), ('BGM', 'PHL'), ('BGM', 'IAD'), ...]\n",
    "```\n",
    "where ANC is Anchorage, IAD is Washington Dulles, etc.\n",
    "\n",
    "These nodes also have **attributes** associated with them, containing additional information about the airports:"
   ]
  },
  {
   "cell_type": "code",
   "execution_count": 29,
   "metadata": {},
   "outputs": [
    {
     "data": {
      "text/plain": [
       "{'name': 'Indianapolis International Airport',\n",
       " 'latitude': 39.7173,\n",
       " 'longitude': -86.294403,\n",
       " 'IATA': 'IND'}"
      ]
     },
     "execution_count": 29,
     "metadata": {},
     "output_type": "execute_result"
    }
   ],
   "source": [
    "G.nodes['IND']"
   ]
  },
  {
   "cell_type": "markdown",
   "metadata": {},
   "source": [
    "Node attributes are stored as a dictionary, so the values can be accessed individually as such:"
   ]
  },
  {
   "cell_type": "code",
   "execution_count": 30,
   "metadata": {},
   "outputs": [
    {
     "data": {
      "text/plain": [
       "'Indianapolis International Airport'"
      ]
     },
     "execution_count": 30,
     "metadata": {},
     "output_type": "execute_result"
    }
   ],
   "source": [
    "G.nodes['IND']['name']"
   ]
  },
  {
   "cell_type": "markdown",
   "metadata": {},
   "source": [
    "# EXERCISE 1\n",
    "\n",
    "Is there a direct flight between Indianapolis and Fairbanks, Alaska (FAI)? A direct flight is one with no intermediate stops."
   ]
  },
  {
   "cell_type": "code",
   "execution_count": 31,
   "metadata": {},
   "outputs": [
    {
     "data": {
      "text/plain": [
       "True"
      ]
     },
     "execution_count": 31,
     "metadata": {},
     "output_type": "execute_result"
    }
   ],
   "source": [
    "nx.has_path(G, 'IND', 'FAI')"
   ]
  },
  {
   "cell_type": "code",
   "execution_count": 32,
   "metadata": {},
   "outputs": [
    {
     "data": {
      "text/plain": [
       "False"
      ]
     },
     "execution_count": 32,
     "metadata": {},
     "output_type": "execute_result"
    }
   ],
   "source": [
    "# no direct edge\n",
    "G.has_edge('IND', 'FAI') "
   ]
  },
  {
   "cell_type": "markdown",
   "metadata": {},
   "source": [
    "# EXERCISE 2\n",
    "\n",
    "If I wanted to fly from Indianapolis to Fairbanks, Alaska what would be an itinerary with the fewest number of flights?"
   ]
  },
  {
   "cell_type": "code",
   "execution_count": 33,
   "metadata": {},
   "outputs": [
    {
     "name": "stdout",
     "output_type": "stream",
     "text": [
      "['IND', 'BOS', 'SEA', 'FAI']\n"
     ]
    },
    {
     "data": {
      "text/plain": [
       "3"
      ]
     },
     "execution_count": 33,
     "metadata": {},
     "output_type": "execute_result"
    }
   ],
   "source": [
    "print(nx.shortest_path(G, 'IND', 'FAI'))\n",
    "len(nx.shortest_path(G, 'IND', 'FAI'))-1"
   ]
  },
  {
   "cell_type": "markdown",
   "metadata": {},
   "source": [
    "# EXERCISE 3\n",
    "\n",
    "Is it possible to travel from any airport in the US to any other airport in the US, possibly using connecting flights? In other words, does there exist a path in the network between every possible pair of airports?"
   ]
  },
  {
   "cell_type": "code",
   "execution_count": 34,
   "metadata": {},
   "outputs": [
    {
     "data": {
      "text/plain": [
       "False"
      ]
     },
     "execution_count": 34,
     "metadata": {},
     "output_type": "execute_result"
    }
   ],
   "source": [
    "nx.is_connected(G)"
   ]
  },
  {
   "cell_type": "markdown",
   "metadata": {},
   "source": [
    "# Bonus\n",
    "Length of the longest shortest path"
   ]
  },
  {
   "cell_type": "code",
   "execution_count": 35,
   "metadata": {},
   "outputs": [
    {
     "ename": "NetworkXError",
     "evalue": "Found infinite path length because the graph is not connected",
     "output_type": "error",
     "traceback": [
      "\u001b[0;31m---------------------------------------------------------------------------\u001b[0m",
      "\u001b[0;31mNetworkXError\u001b[0m                             Traceback (most recent call last)",
      "Input \u001b[0;32mIn [35]\u001b[0m, in \u001b[0;36m<cell line: 1>\u001b[0;34m()\u001b[0m\n\u001b[0;32m----> 1\u001b[0m \u001b[43mnx\u001b[49m\u001b[38;5;241;43m.\u001b[39;49m\u001b[43mdiameter\u001b[49m\u001b[43m(\u001b[49m\u001b[43mG\u001b[49m\u001b[43m)\u001b[49m\n",
      "File \u001b[0;32m~/opt/anaconda3/lib/python3.9/site-packages/networkx/algorithms/distance_measures.py:299\u001b[0m, in \u001b[0;36mdiameter\u001b[0;34m(G, e, usebounds)\u001b[0m\n\u001b[1;32m    297\u001b[0m     \u001b[38;5;28;01mreturn\u001b[39;00m extrema_bounding(G, compute\u001b[38;5;241m=\u001b[39m\u001b[38;5;124m\"\u001b[39m\u001b[38;5;124mdiameter\u001b[39m\u001b[38;5;124m\"\u001b[39m)\n\u001b[1;32m    298\u001b[0m \u001b[38;5;28;01mif\u001b[39;00m e \u001b[38;5;129;01mis\u001b[39;00m \u001b[38;5;28;01mNone\u001b[39;00m:\n\u001b[0;32m--> 299\u001b[0m     e \u001b[38;5;241m=\u001b[39m \u001b[43meccentricity\u001b[49m\u001b[43m(\u001b[49m\u001b[43mG\u001b[49m\u001b[43m)\u001b[49m\n\u001b[1;32m    300\u001b[0m \u001b[38;5;28;01mreturn\u001b[39;00m \u001b[38;5;28mmax\u001b[39m(e\u001b[38;5;241m.\u001b[39mvalues())\n",
      "File \u001b[0;32m~/opt/anaconda3/lib/python3.9/site-packages/networkx/algorithms/distance_measures.py:264\u001b[0m, in \u001b[0;36meccentricity\u001b[0;34m(G, v, sp)\u001b[0m\n\u001b[1;32m    262\u001b[0m         \u001b[38;5;28;01melse\u001b[39;00m:\n\u001b[1;32m    263\u001b[0m             msg \u001b[38;5;241m=\u001b[39m \u001b[38;5;124m\"\u001b[39m\u001b[38;5;124mFound infinite path length because the graph is not\u001b[39m\u001b[38;5;124m\"\u001b[39m \u001b[38;5;124m\"\u001b[39m\u001b[38;5;124m connected\u001b[39m\u001b[38;5;124m\"\u001b[39m\n\u001b[0;32m--> 264\u001b[0m         \u001b[38;5;28;01mraise\u001b[39;00m nx\u001b[38;5;241m.\u001b[39mNetworkXError(msg)\n\u001b[1;32m    266\u001b[0m     e[n] \u001b[38;5;241m=\u001b[39m \u001b[38;5;28mmax\u001b[39m(length\u001b[38;5;241m.\u001b[39mvalues())\n\u001b[1;32m    268\u001b[0m \u001b[38;5;28;01mif\u001b[39;00m v \u001b[38;5;129;01min\u001b[39;00m G:\n",
      "\u001b[0;31mNetworkXError\u001b[0m: Found infinite path length because the graph is not connected"
     ]
    }
   ],
   "source": [
    "nx.diameter(G)"
   ]
  },
  {
   "cell_type": "code",
   "execution_count": 36,
   "metadata": {},
   "outputs": [],
   "source": [
    "lcc = max(nx.connected_components(G), key=len)\n",
    "lcc = nx.subgraph(G, lcc)"
   ]
  },
  {
   "cell_type": "code",
   "execution_count": 37,
   "metadata": {},
   "outputs": [
    {
     "data": {
      "text/plain": [
       "7"
      ]
     },
     "execution_count": 37,
     "metadata": {},
     "output_type": "execute_result"
    }
   ],
   "source": [
    "diameter = nx.diameter(lcc)\n",
    "diameter"
   ]
  },
  {
   "cell_type": "code",
   "execution_count": 38,
   "metadata": {},
   "outputs": [
    {
     "name": "stdout",
     "output_type": "stream",
     "text": [
      "['PKB', 'CLE', 'BOS', 'SEA', 'FAI', 'FYU', 'VEE', 'ARC']\n",
      "['PSM', 'SFB', 'ABE', 'ORD', 'ANC', 'ADQ', 'KLN', 'KYK']\n",
      "['PSM', 'SFB', 'ABE', 'ORD', 'ANC', 'BET', 'KWN', 'TOG']\n",
      "['PSM', 'SFB', 'ABE', 'ORD', 'ANC', 'BET', 'EMK', 'AUK']\n",
      "['PSM', 'SFB', 'ABE', 'ORD', 'ANC', 'ANI', 'HCR', 'ANV']\n",
      "['PSM', 'SFB', 'MIA', 'SEA', 'FAI', 'FYU', 'VEE', 'ARC']\n",
      "['TVF', 'GFK', 'MSP', 'SEA', 'FAI', 'FYU', 'VEE', 'ARC']\n",
      "['ANV', 'HCR', 'ANI', 'ANC', 'PHX', 'BOS', 'ACK', 'TEB']\n",
      "['ANV', 'HCR', 'ANI', 'ANC', 'PHX', 'IND', 'TTN', 'UST']\n",
      "['ANV', 'HCR', 'ANI', 'ANC', 'PHX', 'DSM', 'SFB', 'PSM']\n",
      "['ANV', 'HCR', 'ANI', 'ANC', 'PHX', 'DSM', 'SFB', 'BLV']\n",
      "['ANV', 'HCR', 'ANI', 'ANC', 'PHX', 'DSM', 'SFB', 'LCK']\n",
      "['ANV', 'HCR', 'ANI', 'ANC', 'PHX', 'ATL', 'TUP', 'GLH']\n",
      "['ANV', 'HCR', 'ANI', 'ANC', 'FAI', 'FYU', 'VEE', 'ARC']\n",
      "['AUK', 'EMK', 'BET', 'ANC', 'PHX', 'BOS', 'ACK', 'TEB']\n",
      "['AUK', 'EMK', 'BET', 'ANC', 'PHX', 'IND', 'TTN', 'UST']\n",
      "['AUK', 'EMK', 'BET', 'ANC', 'PHX', 'DSM', 'SFB', 'PSM']\n",
      "['AUK', 'EMK', 'BET', 'ANC', 'PHX', 'DSM', 'SFB', 'BLV']\n",
      "['AUK', 'EMK', 'BET', 'ANC', 'PHX', 'DSM', 'SFB', 'LCK']\n",
      "['AUK', 'EMK', 'BET', 'ANC', 'PHX', 'ATL', 'TUP', 'GLH']\n",
      "['AUK', 'EMK', 'BET', 'ANC', 'FAI', 'FYU', 'VEE', 'ARC']\n",
      "['OGD', 'AZA', 'EUG', 'SEA', 'FAI', 'FYU', 'VEE', 'ARC']\n",
      "['HOT', 'ELD', 'DAL', 'SEA', 'FAI', 'FYU', 'VEE', 'ARC']\n",
      "['HON', 'PIR', 'DEN', 'SEA', 'FAI', 'FYU', 'VEE', 'ARC']\n",
      "['MSS', 'ALB', 'BOS', 'SEA', 'FAI', 'FYU', 'VEE', 'ARC']\n",
      "['MMU', 'CVG', 'BOS', 'SEA', 'FAI', 'FYU', 'VEE', 'ARC']\n",
      "['PIE', 'TRI', 'ATL', 'SEA', 'FAI', 'FYU', 'VEE', 'ARC']\n",
      "['TEB', 'ACK', 'BOS', 'PHX', 'ANC', 'ADQ', 'KLN', 'KYK']\n",
      "['TEB', 'ACK', 'BOS', 'PHX', 'ANC', 'BET', 'KWN', 'TOG']\n",
      "['TEB', 'ACK', 'BOS', 'PHX', 'ANC', 'BET', 'EMK', 'AUK']\n",
      "['TEB', 'ACK', 'BOS', 'PHX', 'ANC', 'ANI', 'HCR', 'ANV']\n",
      "['TEB', 'ACK', 'BOS', 'SEA', 'FAI', 'FYU', 'VEE', 'ARC']\n",
      "['ARC', 'VEE', 'FYU', 'FAI', 'SEA', 'EUG', 'AZA', 'OGD']\n",
      "['ARC', 'VEE', 'FYU', 'FAI', 'SEA', 'BOS', 'MVY', 'EWB']\n",
      "['ARC', 'VEE', 'FYU', 'FAI', 'SEA', 'BOS', 'MDT', 'PIE']\n",
      "['ARC', 'VEE', 'FYU', 'FAI', 'SEA', 'BOS', 'ISP', 'PGD']\n",
      "['ARC', 'VEE', 'FYU', 'FAI', 'SEA', 'BOS', 'ALB', 'MSS']\n",
      "['ARC', 'VEE', 'FYU', 'FAI', 'SEA', 'BOS', 'ALB', 'OGS']\n",
      "['ARC', 'VEE', 'FYU', 'FAI', 'SEA', 'BOS', 'CLE', 'PKB']\n",
      "['ARC', 'VEE', 'FYU', 'FAI', 'SEA', 'BOS', 'CLE', 'FKL']\n",
      "['ARC', 'VEE', 'FYU', 'FAI', 'SEA', 'BOS', 'CLE', 'JHW']\n",
      "['ARC', 'VEE', 'FYU', 'FAI', 'SEA', 'BOS', 'CLE', 'BFD']\n",
      "['ARC', 'VEE', 'FYU', 'FAI', 'SEA', 'BOS', 'CLE', 'DUJ']\n",
      "['ARC', 'VEE', 'FYU', 'FAI', 'SEA', 'BOS', 'CVG', 'MMU']\n",
      "['ARC', 'VEE', 'FYU', 'FAI', 'SEA', 'BOS', 'MYR', 'YNG']\n",
      "['ARC', 'VEE', 'FYU', 'FAI', 'SEA', 'BOS', 'BNA', 'AHN']\n",
      "['ARC', 'VEE', 'FYU', 'FAI', 'SEA', 'BOS', 'BNA', 'MKL']\n",
      "['ARC', 'VEE', 'FYU', 'FAI', 'SEA', 'BOS', 'ACK', 'TEB']\n",
      "['ARC', 'VEE', 'FYU', 'FAI', 'SEA', 'MCI', 'MEM', 'HOT']\n",
      "['ARC', 'VEE', 'FYU', 'FAI', 'SEA', 'PHX', 'PGA', 'GCN']\n",
      "['ARC', 'VEE', 'FYU', 'FAI', 'SEA', 'FLL', 'TTN', 'UST']\n",
      "['ARC', 'VEE', 'FYU', 'FAI', 'SEA', 'MIA', 'SFB', 'PSM']\n",
      "['ARC', 'VEE', 'FYU', 'FAI', 'SEA', 'MIA', 'SFB', 'BLV']\n",
      "['ARC', 'VEE', 'FYU', 'FAI', 'SEA', 'MIA', 'SFB', 'LCK']\n",
      "['ARC', 'VEE', 'FYU', 'FAI', 'SEA', 'DEN', 'PIR', 'HON']\n",
      "['ARC', 'VEE', 'FYU', 'FAI', 'SEA', 'DEN', 'CYS', 'WRL']\n",
      "['ARC', 'VEE', 'FYU', 'FAI', 'SEA', 'MSP', 'GFK', 'TVF']\n",
      "['ARC', 'VEE', 'FYU', 'FAI', 'SEA', 'ATL', 'TUP', 'GLH']\n",
      "['ARC', 'VEE', 'FYU', 'FAI', 'ANC', 'ADQ', 'KLN', 'KYK']\n",
      "['ARC', 'VEE', 'FYU', 'FAI', 'ANC', 'BET', 'KWN', 'TOG']\n",
      "['ARC', 'VEE', 'FYU', 'FAI', 'ANC', 'BET', 'EMK', 'AUK']\n",
      "['ARC', 'VEE', 'FYU', 'FAI', 'ANC', 'ANI', 'HCR', 'ANV']\n",
      "['AHN', 'BNA', 'BOS', 'SEA', 'FAI', 'FYU', 'VEE', 'ARC']\n",
      "['BFD', 'CLE', 'BOS', 'SEA', 'FAI', 'FYU', 'VEE', 'ARC']\n",
      "['DUJ', 'CLE', 'BOS', 'SEA', 'FAI', 'FYU', 'VEE', 'ARC']\n",
      "['EWB', 'MVY', 'BOS', 'SEA', 'FAI', 'FYU', 'VEE', 'ARC']\n",
      "['TOG', 'KWN', 'BET', 'ANC', 'PHX', 'BOS', 'ACK', 'TEB']\n",
      "['TOG', 'KWN', 'BET', 'ANC', 'PHX', 'IND', 'TTN', 'UST']\n",
      "['TOG', 'KWN', 'BET', 'ANC', 'PHX', 'DSM', 'SFB', 'PSM']\n",
      "['TOG', 'KWN', 'BET', 'ANC', 'PHX', 'DSM', 'SFB', 'BLV']\n",
      "['TOG', 'KWN', 'BET', 'ANC', 'PHX', 'DSM', 'SFB', 'LCK']\n",
      "['TOG', 'KWN', 'BET', 'ANC', 'PHX', 'ATL', 'TUP', 'GLH']\n",
      "['TOG', 'KWN', 'BET', 'ANC', 'FAI', 'FYU', 'VEE', 'ARC']\n",
      "['MKL', 'MEM', 'MCI', 'SEA', 'FAI', 'FYU', 'VEE', 'ARC']\n",
      "['BLV', 'SFB', 'ABE', 'ORD', 'ANC', 'ADQ', 'KLN', 'KYK']\n",
      "['BLV', 'SFB', 'ABE', 'ORD', 'ANC', 'BET', 'KWN', 'TOG']\n",
      "['BLV', 'SFB', 'ABE', 'ORD', 'ANC', 'BET', 'EMK', 'AUK']\n",
      "['BLV', 'SFB', 'ABE', 'ORD', 'ANC', 'ANI', 'HCR', 'ANV']\n",
      "['BLV', 'SFB', 'MIA', 'SEA', 'FAI', 'FYU', 'VEE', 'ARC']\n",
      "['GCN', 'PGA', 'PHX', 'ANC', 'FAI', 'FYU', 'VEE', 'ARC']\n",
      "['YNG', 'SFB', 'MIA', 'SEA', 'FAI', 'FYU', 'VEE', 'ARC']\n",
      "['OGS', 'ALB', 'BOS', 'SEA', 'FAI', 'FYU', 'VEE', 'ARC']\n",
      "['WRL', 'CYS', 'DEN', 'SEA', 'FAI', 'FYU', 'VEE', 'ARC']\n",
      "['LCK', 'SFB', 'ABE', 'ORD', 'ANC', 'ADQ', 'KLN', 'KYK']\n",
      "['LCK', 'SFB', 'ABE', 'ORD', 'ANC', 'BET', 'KWN', 'TOG']\n",
      "['LCK', 'SFB', 'ABE', 'ORD', 'ANC', 'BET', 'EMK', 'AUK']\n",
      "['LCK', 'SFB', 'ABE', 'ORD', 'ANC', 'ANI', 'HCR', 'ANV']\n",
      "['LCK', 'SFB', 'MIA', 'SEA', 'FAI', 'FYU', 'VEE', 'ARC']\n",
      "['UST', 'TTN', 'CVG', 'LAX', 'ANC', 'ADQ', 'KLN', 'KYK']\n",
      "['UST', 'TTN', 'CVG', 'LAX', 'ANC', 'BET', 'KWN', 'TOG']\n",
      "['UST', 'TTN', 'CVG', 'LAX', 'ANC', 'BET', 'EMK', 'AUK']\n",
      "['UST', 'TTN', 'CVG', 'LAX', 'ANC', 'ANI', 'HCR', 'ANV']\n",
      "['UST', 'TTN', 'ATL', 'SEA', 'FAI', 'FYU', 'VEE', 'ARC']\n",
      "['PGD', 'SPI', 'DFW', 'SEA', 'FAI', 'FYU', 'VEE', 'ARC']\n",
      "['JHW', 'CLE', 'BOS', 'SEA', 'FAI', 'FYU', 'VEE', 'ARC']\n",
      "['FKL', 'CLE', 'BOS', 'SEA', 'FAI', 'FYU', 'VEE', 'ARC']\n",
      "['GLH', 'TUP', 'ATL', 'PHX', 'ANC', 'ADQ', 'KLN', 'KYK']\n",
      "['GLH', 'TUP', 'ATL', 'PHX', 'ANC', 'BET', 'KWN', 'TOG']\n",
      "['GLH', 'TUP', 'ATL', 'PHX', 'ANC', 'BET', 'EMK', 'AUK']\n",
      "['GLH', 'TUP', 'ATL', 'PHX', 'ANC', 'ANI', 'HCR', 'ANV']\n",
      "['GLH', 'TUP', 'ATL', 'SEA', 'FAI', 'FYU', 'VEE', 'ARC']\n",
      "['KYK', 'KLN', 'ADQ', 'ANC', 'PHX', 'BOS', 'ACK', 'TEB']\n",
      "['KYK', 'KLN', 'ADQ', 'ANC', 'PHX', 'IND', 'TTN', 'UST']\n",
      "['KYK', 'KLN', 'ADQ', 'ANC', 'PHX', 'DSM', 'SFB', 'PSM']\n",
      "['KYK', 'KLN', 'ADQ', 'ANC', 'PHX', 'DSM', 'SFB', 'BLV']\n",
      "['KYK', 'KLN', 'ADQ', 'ANC', 'PHX', 'DSM', 'SFB', 'LCK']\n",
      "['KYK', 'KLN', 'ADQ', 'ANC', 'PHX', 'ATL', 'TUP', 'GLH']\n",
      "['KYK', 'KLN', 'ADQ', 'ANC', 'FAI', 'FYU', 'VEE', 'ARC']\n"
     ]
    }
   ],
   "source": [
    "# All the shortest paths between all the pairs of nodes\n",
    "paths = list(nx.shortest_paths.all_pairs_shortest_path(lcc))\n",
    "\n",
    "# subtract 1 to account for the length of the path\n",
    "for source, path_dict in paths:\n",
    "    for dest, path in path_dict.items():\n",
    "        if len(path)-1 == diameter :\n",
    "            print(path)"
   ]
  },
  {
   "cell_type": "code",
   "execution_count": null,
   "metadata": {},
   "outputs": [],
   "source": []
  }
 ],
 "metadata": {
  "kernelspec": {
   "display_name": "Python 3 (ipykernel)",
   "language": "python",
   "name": "python3"
  },
  "language_info": {
   "codemirror_mode": {
    "name": "ipython",
    "version": 3
   },
   "file_extension": ".py",
   "mimetype": "text/x-python",
   "name": "python",
   "nbconvert_exporter": "python",
   "pygments_lexer": "ipython3",
   "version": "3.9.12"
  }
 },
 "nbformat": 4,
 "nbformat_minor": 1
}
